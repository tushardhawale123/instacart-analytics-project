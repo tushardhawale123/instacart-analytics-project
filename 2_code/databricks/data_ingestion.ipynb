{
 "cells": [
  {
   "cell_type": "markdown",
   "metadata": {
    "application/vnd.databricks.v1+cell": {
     "cellMetadata": {},
     "inputWidgets": {},
     "nuid": "9de2e4a6-578b-4bfe-94fb-e1e4de1f47ec",
     "showTitle": false,
     "tableResultSettingsMap": {},
     "title": ""
    }
   },
   "source": [
    "# Instacart Data Ingestion\n",
    "# This notebook loads data from Azure Blob Storage into Databricks using a connection string.\n"
   ]
  },
  {
   "cell_type": "code",
   "execution_count": 0,
   "metadata": {
    "application/vnd.databricks.v1+cell": {
     "cellMetadata": {},
     "inputWidgets": {},
     "nuid": "de68b719-3843-4964-8cbd-3b8918a76d46",
     "showTitle": false,
     "tableResultSettingsMap": {},
     "title": ""
    }
   },
   "outputs": [],
   "source": [
    "# Define your storage account and container\n",
    "storage_account_name = \"instacartstorage123\"\n",
    "container_name = \"instacartdata\"\n",
    "account_key = \"RuSOWLQeMdQCJbWpL2Pl/p0gGDLsOX3BGApLf3kK/IQnYsSVA3TechIbOvOs/qBar+IpBxlsmS7e+AStKcq1hg==\"\n",
    "\n",
    "# Set the Spark configuration to access Azure Blob Storage\n",
    "spark.conf.set(f\"fs.azure.account.key.{storage_account_name}.blob.core.windows.net\", account_key)\n"
   ]
  },
  {
   "cell_type": "code",
   "execution_count": 0,
   "metadata": {
    "application/vnd.databricks.v1+cell": {
     "cellMetadata": {},
     "inputWidgets": {},
     "nuid": "425d495b-b2b9-4098-a4e1-2f2f1f07ec6b",
     "showTitle": false,
     "tableResultSettingsMap": {},
     "title": ""
    }
   },
   "outputs": [],
   "source": [
    "# Define the base path to access files via WASBS\n",
    "base_path = f\"wasbs://{container_name}@{storage_account_name}.blob.core.windows.net\"\n"
   ]
  },
  {
   "cell_type": "code",
   "execution_count": 0,
   "metadata": {
    "application/vnd.databricks.v1+cell": {
     "cellMetadata": {},
     "inputWidgets": {},
     "nuid": "8537a694-ae1c-4970-992b-08d095724514",
     "showTitle": false,
     "tableResultSettingsMap": {},
     "title": ""
    }
   },
   "outputs": [],
   "source": [
    "# Load datasets\n",
    "products = spark.read.csv(f\"{base_path}/products_cleaned.csv\", header=True, inferSchema=True)\n",
    "orders = spark.read.csv(f\"{base_path}/orders_cleaned.csv\", header=True, inferSchema=True)\n",
    "order_products_train = spark.read.csv(f\"{base_path}/order_products_train_cleaned.csv\", header=True, inferSchema=True)\n",
    "order_products_prior = spark.read.csv(f\"{base_path}/order_products_prior_cleaned.csv\", header=True, inferSchema=True)\n",
    "aisles = spark.read.csv(f\"{base_path}/aisles_cleaned.csv\", header=True, inferSchema=True)\n",
    "departments = spark.read.csv(f\"{base_path}/departments_cleaned.csv\", header=True, inferSchema=True)\n"
   ]
  },
  {
   "cell_type": "code",
   "execution_count": 0,
   "metadata": {
    "application/vnd.databricks.v1+cell": {
     "cellMetadata": {},
     "inputWidgets": {},
     "nuid": "d3b14bd1-374d-4fc9-9f8f-a7f90bc7c59f",
     "showTitle": false,
     "tableResultSettingsMap": {},
     "title": ""
    }
   },
   "outputs": [],
   "source": [
    "# Save datasets as Delta Tables\n",
    "products.write.format(\"delta\").mode(\"overwrite\").save(\"/delta/products\")\n",
    "orders.write.format(\"delta\").mode(\"overwrite\").save(\"/delta/orders\")\n",
    "order_products_train.write.format(\"delta\").mode(\"overwrite\").save(\"/delta/order_products_train\")\n",
    "order_products_prior.write.format(\"delta\").mode(\"overwrite\").save(\"/delta/order_products_prior\")\n",
    "aisles.write.format(\"delta\").mode(\"overwrite\").save(\"/delta/aisles\")\n",
    "departments.write.format(\"delta\").mode(\"overwrite\").save(\"/delta/departments\")\n"
   ]
  },
  {
   "cell_type": "code",
   "execution_count": 0,
   "metadata": {
    "application/vnd.databricks.v1+cell": {
     "cellMetadata": {},
     "inputWidgets": {},
     "nuid": "091dcc92-03ff-4be6-a2aa-9316be3e7c50",
     "showTitle": false,
     "tableResultSettingsMap": {},
     "title": ""
    }
   },
   "outputs": [],
   "source": [
    "# Create a database and register Delta tables\n",
    "spark.sql(\"CREATE DATABASE IF NOT EXISTS instacart\")\n",
    "\n",
    "spark.sql(\"CREATE TABLE IF NOT EXISTS instacart.products USING DELTA LOCATION '/delta/products'\")\n",
    "spark.sql(\"CREATE TABLE IF NOT EXISTS instacart.orders USING DELTA LOCATION '/delta/orders'\")\n",
    "spark.sql(\"CREATE TABLE IF NOT EXISTS instacart.order_products_train USING DELTA LOCATION '/delta/order_products_train'\")\n",
    "spark.sql(\"CREATE TABLE IF NOT EXISTS instacart.order_products_prior USING DELTA LOCATION '/delta/order_products_prior'\")\n",
    "spark.sql(\"CREATE TABLE IF NOT EXISTS instacart.aisles USING DELTA LOCATION '/delta/aisles'\")\n",
    "spark.sql(\"CREATE TABLE IF NOT EXISTS instacart.departments USING DELTA LOCATION '/delta/departments'\")\n"
   ]
  },
  {
   "cell_type": "code",
   "execution_count": 0,
   "metadata": {
    "application/vnd.databricks.v1+cell": {
     "cellMetadata": {},
     "inputWidgets": {},
     "nuid": "dee29a1e-a285-41b6-a195-25fa802afab5",
     "showTitle": false,
     "tableResultSettingsMap": {},
     "title": ""
    }
   },
   "outputs": [],
   "source": [
    "print(\"✅ Data ingestion complete!\")\n"
   ]
  }
 ],
 "metadata": {
  "application/vnd.databricks.v1+notebook": {
   "computePreferences": null,
   "dashboards": [],
   "environmentMetadata": {
    "base_environment": "",
    "environment_version": "2"
   },
   "inputWidgetPreferences": null,
   "language": "python",
   "notebookMetadata": {
    "pythonIndentUnit": 4
   },
   "notebookName": "data_ingestion",
   "widgets": {}
  },
  "language_info": {
   "name": "python"
  }
 },
 "nbformat": 4,
 "nbformat_minor": 0
}