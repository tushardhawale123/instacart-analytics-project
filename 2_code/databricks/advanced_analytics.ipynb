{
 "cells": [
  {
   "cell_type": "markdown",
   "metadata": {
    "application/vnd.databricks.v1+cell": {
     "cellMetadata": {
      "byteLimit": 2048000,
      "rowLimit": 10000
     },
     "inputWidgets": {},
     "nuid": "e7543fbd-1004-4ed1-99ec-6a1db1d6f317",
     "showTitle": false,
     "tableResultSettingsMap": {},
     "title": ""
    }
   },
   "source": [
    "# Instacart Advanced Analytics\n",
    "# This notebook performs advanced analytics on the Instacart dataset.\n"
   ]
  },
  {
   "cell_type": "code",
   "execution_count": 0,
   "metadata": {
    "application/vnd.databricks.v1+cell": {
     "cellMetadata": {
      "byteLimit": 2048000,
      "rowLimit": 10000
     },
     "inputWidgets": {},
     "nuid": "39b64748-5bb1-428c-8236-adccb9804e3d",
     "showTitle": false,
     "tableResultSettingsMap": {},
     "title": ""
    }
   },
   "outputs": [
    {
     "output_type": "display_data",
     "data": {
      "text/html": [
       "<style scoped>\n",
       "  .table-result-container {\n",
       "    max-height: 300px;\n",
       "    overflow: auto;\n",
       "  }\n",
       "  table, th, td {\n",
       "    border: 1px solid black;\n",
       "    border-collapse: collapse;\n",
       "  }\n",
       "  th, td {\n",
       "    padding: 5px;\n",
       "  }\n",
       "  th {\n",
       "    text-align: left;\n",
       "  }\n",
       "</style><div class='table-result-container'><table class='table-result'><thead style='background-color: white'><tr></tr></thead><tbody></tbody></table></div>"
      ]
     },
     "metadata": {
      "application/vnd.databricks.v1+output": {
       "addedWidgets": {},
       "aggData": [],
       "aggError": "",
       "aggOverflow": false,
       "aggSchema": [],
       "aggSeriesLimitReached": false,
       "aggType": "",
       "arguments": {},
       "columnCustomDisplayInfos": {},
       "data": [],
       "datasetInfos": [],
       "dbfsResultPath": null,
       "isJsonSchema": true,
       "metadata": {},
       "overflow": false,
       "plotOptions": {
        "customPlotOptions": {},
        "displayType": "table",
        "pivotAggregation": null,
        "pivotColumns": null,
        "xColumns": null,
        "yColumns": null
       },
       "removedWidgets": [],
       "schema": [],
       "type": "table"
      }
     },
     "output_type": "display_data"
    }
   ],
   "source": []
  },
  {
   "cell_type": "code",
   "execution_count": 0,
   "metadata": {
    "application/vnd.databricks.v1+cell": {
     "cellMetadata": {
      "byteLimit": 2048000,
      "implicitDf": true,
      "rowLimit": 10000
     },
     "inputWidgets": {},
     "nuid": "6ee1e336-ac10-481c-8b04-3cf503f76fbe",
     "showTitle": false,
     "tableResultSettingsMap": {},
     "title": ""
    }
   },
   "outputs": [
    {
     "output_type": "display_data",
     "data": {
      "text/html": [
       "<style scoped>\n",
       "  .table-result-container {\n",
       "    max-height: 300px;\n",
       "    overflow: auto;\n",
       "  }\n",
       "  table, th, td {\n",
       "    border: 1px solid black;\n",
       "    border-collapse: collapse;\n",
       "  }\n",
       "  th, td {\n",
       "    padding: 5px;\n",
       "  }\n",
       "  th {\n",
       "    text-align: left;\n",
       "  }\n",
       "</style><div class='table-result-container'><table class='table-result'><thead style='background-color: white'><tr><th>product_1_name</th><th>product_2_name</th><th>pair_count</th></tr></thead><tbody><tr><td>Bag of Organic Bananas</td><td>Organic Hass Avocado</td><td>64761</td></tr><tr><td>Bag of Organic Bananas</td><td>Organic Strawberries</td><td>64702</td></tr><tr><td>Organic Strawberries</td><td>Banana</td><td>58330</td></tr><tr><td>Banana</td><td>Organic Avocado</td><td>55611</td></tr><tr><td>Organic Baby Spinach</td><td>Banana</td><td>53395</td></tr><tr><td>Bag of Organic Bananas</td><td>Organic Baby Spinach</td><td>52608</td></tr><tr><td>Strawberries</td><td>Banana</td><td>43180</td></tr><tr><td>Banana</td><td>Large Lemon</td><td>43038</td></tr><tr><td>Organic Strawberries</td><td>Organic Hass Avocado</td><td>42333</td></tr><tr><td>Bag of Organic Bananas</td><td>Organic Raspberries</td><td>42283</td></tr><tr><td>Organic Strawberries</td><td>Organic Baby Spinach</td><td>39773</td></tr><tr><td>Organic Baby Spinach</td><td>Organic Hass Avocado</td><td>36153</td></tr><tr><td>Organic Strawberries</td><td>Organic Raspberries</td><td>35533</td></tr><tr><td>Banana</td><td>Organic Fuji Apple</td><td>35153</td></tr><tr><td>Banana</td><td>Limes</td><td>33103</td></tr><tr><td>Banana</td><td>Cucumber Kirby</td><td>32840</td></tr><tr><td>Banana</td><td>Organic Whole Milk</td><td>32685</td></tr><tr><td>Organic Baby Spinach</td><td>Organic Avocado</td><td>32291</td></tr><tr><td>Banana</td><td>Organic Hass Avocado</td><td>32169</td></tr><tr><td>Banana</td><td>Honeycrisp Apple</td><td>29639</td></tr></tbody></table></div>"
      ]
     },
     "metadata": {
      "application/vnd.databricks.v1+output": {
       "addedWidgets": {},
       "aggData": [],
       "aggError": "",
       "aggOverflow": false,
       "aggSchema": [],
       "aggSeriesLimitReached": false,
       "aggType": "",
       "arguments": {},
       "columnCustomDisplayInfos": {},
       "data": [
        [
         "Bag of Organic Bananas",
         "Organic Hass Avocado",
         64761
        ],
        [
         "Bag of Organic Bananas",
         "Organic Strawberries",
         64702
        ],
        [
         "Organic Strawberries",
         "Banana",
         58330
        ],
        [
         "Banana",
         "Organic Avocado",
         55611
        ],
        [
         "Organic Baby Spinach",
         "Banana",
         53395
        ],
        [
         "Bag of Organic Bananas",
         "Organic Baby Spinach",
         52608
        ],
        [
         "Strawberries",
         "Banana",
         43180
        ],
        [
         "Banana",
         "Large Lemon",
         43038
        ],
        [
         "Organic Strawberries",
         "Organic Hass Avocado",
         42333
        ],
        [
         "Bag of Organic Bananas",
         "Organic Raspberries",
         42283
        ],
        [
         "Organic Strawberries",
         "Organic Baby Spinach",
         39773
        ],
        [
         "Organic Baby Spinach",
         "Organic Hass Avocado",
         36153
        ],
        [
         "Organic Strawberries",
         "Organic Raspberries",
         35533
        ],
        [
         "Banana",
         "Organic Fuji Apple",
         35153
        ],
        [
         "Banana",
         "Limes",
         33103
        ],
        [
         "Banana",
         "Cucumber Kirby",
         32840
        ],
        [
         "Banana",
         "Organic Whole Milk",
         32685
        ],
        [
         "Organic Baby Spinach",
         "Organic Avocado",
         32291
        ],
        [
         "Banana",
         "Organic Hass Avocado",
         32169
        ],
        [
         "Banana",
         "Honeycrisp Apple",
         29639
        ]
       ],
       "datasetInfos": [],
       "dbfsResultPath": null,
       "isJsonSchema": true,
       "metadata": {},
       "overflow": false,
       "plotOptions": {
        "customPlotOptions": {},
        "displayType": "table",
        "pivotAggregation": null,
        "pivotColumns": null,
        "xColumns": null,
        "yColumns": null
       },
       "removedWidgets": [],
       "schema": [
        {
         "metadata": "{}",
         "name": "product_1_name",
         "type": "\"string\""
        },
        {
         "metadata": "{}",
         "name": "product_2_name",
         "type": "\"string\""
        },
        {
         "metadata": "{}",
         "name": "pair_count",
         "type": "\"long\""
        }
       ],
       "type": "table"
      }
     },
     "output_type": "display_data"
    }
   ],
   "source": [
    "%sql\n",
    "-- 1. Product Purchase Patterns\n",
    "-- Products most frequently bought together\n",
    "WITH order_pairs AS (\n",
    "  SELECT a.order_id, a.product_id as product_1, b.product_id as product_2\n",
    "  FROM all_order_products a\n",
    "  JOIN all_order_products b \n",
    "    ON a.order_id = b.order_id AND a.product_id < b.product_id\n",
    ")\n",
    "\n",
    "SELECT \n",
    "  p1.product_name as product_1_name,\n",
    "  p2.product_name as product_2_name,\n",
    "  COUNT(*) as pair_count\n",
    "FROM order_pairs op\n",
    "JOIN instacart.products p1 ON op.product_1 = p1.product_id\n",
    "JOIN instacart.products p2 ON op.product_2 = p2.product_id\n",
    "GROUP BY product_1_name, product_2_name\n",
    "ORDER BY pair_count DESC\n",
    "LIMIT 20;\n"
   ]
  },
  {
   "cell_type": "code",
   "execution_count": 0,
   "metadata": {
    "application/vnd.databricks.v1+cell": {
     "cellMetadata": {
      "byteLimit": 2048000,
      "rowLimit": 10000
     },
     "inputWidgets": {},
     "nuid": "60f045b0-2614-4eef-9f15-6cba910f95ca",
     "showTitle": false,
     "tableResultSettingsMap": {},
     "title": ""
    }
   },
   "outputs": [
    {
     "output_type": "display_data",
     "data": {
      "text/html": [
       "<style scoped>\n",
       "  .ansiout {\n",
       "    display: block;\n",
       "    unicode-bidi: embed;\n",
       "    white-space: pre-wrap;\n",
       "    word-wrap: break-word;\n",
       "    word-break: break-all;\n",
       "    font-family: \"Menlo\", \"Monaco\", \"Consolas\", \"Ubuntu Mono\", \"Source Code Pro\", monospace;\n",
       "    font-size: 13px;\n",
       "    color: #555;\n",
       "    margin-left: 4px;\n",
       "    line-height: 19px;\n",
       "  }\n",
       "</style>\n",
       "<div class=\"ansiout\">Cluster Centers:\n",
       "Cluster 0: [ 7.3105058  15.38016306 13.63885268  6.33294954  0.3501217 ]\n",
       "Cluster 1: [45.01083535  7.63242912 13.2587431   3.11227042  0.69076125]\n",
       "Cluster 2: [82.92923923  4.38239277 13.12513175  2.25966768  0.75087569]\n",
       "Cluster 3: [21.56969448 11.44010328 13.45428359  4.16085056  0.56826807]\n",
       "</div>"
      ]
     },
     "metadata": {
      "application/vnd.databricks.v1+output": {
       "addedWidgets": {},
       "arguments": {},
       "data": "<div class=\"ansiout\">Cluster Centers:\nCluster 0: [ 7.3105058  15.38016306 13.63885268  6.33294954  0.3501217 ]\nCluster 1: [45.01083535  7.63242912 13.2587431   3.11227042  0.69076125]\nCluster 2: [82.92923923  4.38239277 13.12513175  2.25966768  0.75087569]\nCluster 3: [21.56969448 11.44010328 13.45428359  4.16085056  0.56826807]\n</div>",
       "datasetInfos": [],
       "metadata": {},
       "removedWidgets": [],
       "type": "html"
      }
     },
     "output_type": "display_data"
    }
   ],
   "source": [
    "# 2. User Segmentation Analysis\n",
    "\n",
    "from pyspark.sql.functions import col, count, sum, avg\n",
    "from pyspark.ml.feature import VectorAssembler\n",
    "from pyspark.ml.clustering import KMeans\n",
    "\n",
    "# Create user features for segmentation\n",
    "user_features = spark.sql(\"\"\"\n",
    "  SELECT \n",
    "    o.user_id,\n",
    "    COUNT(DISTINCT o.order_id) as total_orders,\n",
    "    AVG(o.days_since_prior_order) as avg_days_between_orders,\n",
    "    AVG(o.order_hour_of_day) as avg_order_hour,\n",
    "    COUNT(DISTINCT op.product_id) / COUNT(DISTINCT o.order_id) as avg_basket_size,\n",
    "    SUM(CASE WHEN op.reordered = 1 THEN 1 ELSE 0 END) / COUNT(*) as reorder_ratio\n",
    "  FROM instacart.orders o\n",
    "  JOIN all_order_products op ON o.order_id = op.order_id\n",
    "  GROUP BY o.user_id\n",
    "\"\"\")\n",
    "\n",
    "# Prepare data for KMeans\n",
    "assembler = VectorAssembler(\n",
    "    inputCols=[\"total_orders\", \"avg_days_between_orders\", \"avg_order_hour\", \"avg_basket_size\", \"reorder_ratio\"],\n",
    "    outputCol=\"features\"\n",
    ")\n",
    "user_features_vector = assembler.transform(user_features)\n",
    "\n",
    "# Fit KMeans model\n",
    "kmeans = KMeans(k=4, seed=42)\n",
    "model = kmeans.fit(user_features_vector)\n",
    "\n",
    "# Add cluster predictions\n",
    "user_segments = model.transform(user_features_vector)\n",
    "\n",
    "# Show cluster centers\n",
    "centers = model.clusterCenters()\n",
    "print(\"Cluster Centers:\")\n",
    "for i, center in enumerate(centers):\n",
    "    print(f\"Cluster {i}: {center}\")\n"
   ]
  },
  {
   "cell_type": "code",
   "execution_count": 0,
   "metadata": {
    "application/vnd.databricks.v1+cell": {
     "cellMetadata": {
      "byteLimit": 2048000,
      "rowLimit": 10000
     },
     "inputWidgets": {},
     "nuid": "bb0072e5-5969-4942-9825-acc0de4a2199",
     "showTitle": false,
     "tableResultSettingsMap": {},
     "title": ""
    }
   },
   "outputs": [
    {
     "output_type": "display_data",
     "data": {
      "text/html": [
       "<style scoped>\n",
       "  .ansiout {\n",
       "    display: block;\n",
       "    unicode-bidi: embed;\n",
       "    white-space: pre-wrap;\n",
       "    word-wrap: break-word;\n",
       "    word-break: break-all;\n",
       "    font-family: \"Menlo\", \"Monaco\", \"Consolas\", \"Ubuntu Mono\", \"Source Code Pro\", monospace;\n",
       "    font-size: 13px;\n",
       "    color: #555;\n",
       "    margin-left: 4px;\n",
       "    line-height: 19px;\n",
       "  }\n",
       "</style>\n",
       "<div class=\"ansiout\">+----------+----------+------------------+-----------------------+------------------+------------------+-------------------+\n",
       "prediction|user_count|        avg_orders|avg_days_between_orders|    avg_order_hour|   avg_basket_size|  avg_reorder_ratio|\n",
       "+----------+----------+------------------+-----------------------+------------------+------------------+-------------------+\n",
       "         0|    132567| 7.308613757571643|     15.380731752380413|13.638829583059872|6.3334814021822865|0.35007560316845027|\n",
       "         1|     19284| 44.86392864550923|      7.644871681078375|13.259671808988767|3.1166985736102286| 0.6903390774398986|\n",
       "         2|      5584| 82.49194126074498|       4.41613603172908| 13.12532069113389|2.2660340420054266| 0.7505497042407532|\n",
       "         3|     48774|21.556792553409604|     11.443777123053417|13.454575443501227| 4.161471505426571| 0.5681972336662914|\n",
       "+----------+----------+------------------+-----------------------+------------------+------------------+-------------------+\n",
       "\n",
       "</div>"
      ]
     },
     "metadata": {
      "application/vnd.databricks.v1+output": {
       "addedWidgets": {},
       "arguments": {},
       "data": "<div class=\"ansiout\">+----------+----------+------------------+-----------------------+------------------+------------------+-------------------+\n|prediction|user_count|        avg_orders|avg_days_between_orders|    avg_order_hour|   avg_basket_size|  avg_reorder_ratio|\n+----------+----------+------------------+-----------------------+------------------+------------------+-------------------+\n|         0|    132567| 7.308613757571643|     15.380731752380413|13.638829583059872|6.3334814021822865|0.35007560316845027|\n|         1|     19284| 44.86392864550923|      7.644871681078375|13.259671808988767|3.1166985736102286| 0.6903390774398986|\n|         2|      5584| 82.49194126074498|       4.41613603172908| 13.12532069113389|2.2660340420054266| 0.7505497042407532|\n|         3|     48774|21.556792553409604|     11.443777123053417|13.454575443501227| 4.161471505426571| 0.5681972336662914|\n+----------+----------+------------------+-----------------------+------------------+------------------+-------------------+\n\n</div>",
       "datasetInfos": [],
       "metadata": {},
       "removedWidgets": [],
       "type": "html"
      }
     },
     "output_type": "display_data"
    }
   ],
   "source": [
    "# Analyze user segments\n",
    "user_segments.groupBy(\"prediction\") \\\n",
    "    .agg(\n",
    "        count(\"user_id\").alias(\"user_count\"),\n",
    "        avg(\"total_orders\").alias(\"avg_orders\"),\n",
    "        avg(\"avg_days_between_orders\").alias(\"avg_days_between_orders\"),\n",
    "        avg(\"avg_order_hour\").alias(\"avg_order_hour\"),\n",
    "        avg(\"avg_basket_size\").alias(\"avg_basket_size\"),\n",
    "        avg(\"reorder_ratio\").alias(\"avg_reorder_ratio\")\n",
    "    ) \\\n",
    "    .orderBy(\"prediction\") \\\n",
    "    .show()\n"
   ]
  },
  {
   "cell_type": "code",
   "execution_count": 0,
   "metadata": {
    "application/vnd.databricks.v1+cell": {
     "cellMetadata": {
      "byteLimit": 2048000,
      "implicitDf": true,
      "rowLimit": 10000
     },
     "inputWidgets": {},
     "nuid": "b86c61fd-98bb-4612-8a94-cdadcb7c6d61",
     "showTitle": false,
     "tableResultSettingsMap": {},
     "title": ""
    }
   },
   "outputs": [
    {
     "output_type": "display_data",
     "data": {
      "text/html": [
       "<style scoped>\n",
       "  .table-result-container {\n",
       "    max-height: 300px;\n",
       "    overflow: auto;\n",
       "  }\n",
       "  table, th, td {\n",
       "    border: 1px solid black;\n",
       "    border-collapse: collapse;\n",
       "  }\n",
       "  th, td {\n",
       "    padding: 5px;\n",
       "  }\n",
       "  th {\n",
       "    text-align: left;\n",
       "  }\n",
       "</style><div class='table-result-container'><table class='table-result'><thead style='background-color: white'><tr><th>department</th><th>aisle</th><th>time_of_day</th><th>order_count</th></tr></thead><tbody><tr><td>produce</td><td>fresh fruits</td><td>Afternoon</td><td>1508846</td></tr><tr><td>produce</td><td>fresh vegetables</td><td>Afternoon</td><td>1482001</td></tr><tr><td>produce</td><td>fresh fruits</td><td>Morning</td><td>1313031</td></tr><tr><td>produce</td><td>fresh vegetables</td><td>Morning</td><td>1164247</td></tr><tr><td>produce</td><td>fresh fruits</td><td>Evening</td><td>784450</td></tr><tr><td>produce</td><td>packaged vegetables fruits</td><td>Afternoon</td><td>748187</td></tr><tr><td>produce</td><td>fresh vegetables</td><td>Evening</td><td>736228</td></tr><tr><td>produce</td><td>packaged vegetables fruits</td><td>Morning</td><td>615034</td></tr><tr><td>dairy eggs</td><td>yogurt</td><td>Afternoon</td><td>587757</td></tr><tr><td>dairy eggs</td><td>yogurt</td><td>Morning</td><td>536288</td></tr><tr><td>dairy eggs</td><td>packaged cheese</td><td>Afternoon</td><td>421919</td></tr><tr><td>produce</td><td>packaged vegetables fruits</td><td>Evening</td><td>387299</td></tr><tr><td>dairy eggs</td><td>milk</td><td>Afternoon</td><td>360323</td></tr><tr><td>beverages</td><td>water seltzer sparkling water</td><td>Afternoon</td><td>353943</td></tr><tr><td>dairy eggs</td><td>packaged cheese</td><td>Morning</td><td>342591</td></tr><tr><td>dairy eggs</td><td>milk</td><td>Morning</td><td>330704</td></tr><tr><td>snacks</td><td>chips pretzels</td><td>Afternoon</td><td>313380</td></tr><tr><td>dairy eggs</td><td>yogurt</td><td>Evening</td><td>310664</td></tr><tr><td>beverages</td><td>water seltzer sparkling water</td><td>Morning</td><td>310639</td></tr><tr><td>dairy eggs</td><td>soy lactosefree</td><td>Afternoon</td><td>264028</td></tr><tr><td>snacks</td><td>chips pretzels</td><td>Morning</td><td>252391</td></tr><tr><td>bakery</td><td>bread</td><td>Afternoon</td><td>248887</td></tr><tr><td>beverages</td><td>refrigerated</td><td>Afternoon</td><td>240687</td></tr><tr><td>dairy eggs</td><td>soy lactosefree</td><td>Morning</td><td>228255</td></tr><tr><td>frozen</td><td>frozen produce</td><td>Afternoon</td><td>221588</td></tr><tr><td>frozen</td><td>ice cream ice</td><td>Afternoon</td><td>220362</td></tr><tr><td>dairy eggs</td><td>packaged cheese</td><td>Evening</td><td>210583</td></tr><tr><td>bakery</td><td>bread</td><td>Morning</td><td>204861</td></tr><tr><td>beverages</td><td>refrigerated</td><td>Morning</td><td>198864</td></tr><tr><td>snacks</td><td>crackers</td><td>Afternoon</td><td>193028</td></tr><tr><td>dairy eggs</td><td>milk</td><td>Evening</td><td>191552</td></tr><tr><td>dairy eggs</td><td>eggs</td><td>Afternoon</td><td>190504</td></tr><tr><td>snacks</td><td>energy granola bars</td><td>Afternoon</td><td>188533</td></tr><tr><td>produce</td><td>fresh fruits</td><td>Night</td><td>186334</td></tr><tr><td>produce</td><td>fresh vegetables</td><td>Night</td><td>186154</td></tr><tr><td>beverages</td><td>water seltzer sparkling water</td><td>Evening</td><td>177422</td></tr><tr><td>frozen</td><td>frozen produce</td><td>Morning</td><td>176115</td></tr><tr><td>snacks</td><td>energy granola bars</td><td>Morning</td><td>174803</td></tr><tr><td>deli</td><td>lunch meat</td><td>Afternoon</td><td>170510</td></tr><tr><td>frozen</td><td>frozen meals</td><td>Afternoon</td><td>168663</td></tr><tr><td>produce</td><td>fresh herbs</td><td>Afternoon</td><td>167129</td></tr><tr><td>snacks</td><td>crackers</td><td>Morning</td><td>165859</td></tr><tr><td>dairy eggs</td><td>eggs</td><td>Morning</td><td>156090</td></tr><tr><td>snacks</td><td>chips pretzels</td><td>Evening</td><td>156081</td></tr><tr><td>beverages</td><td>soft drinks</td><td>Afternoon</td><td>155220</td></tr><tr><td>breakfast</td><td>cereal</td><td>Afternoon</td><td>153361</td></tr><tr><td>canned goods</td><td>soup broth bouillon</td><td>Afternoon</td><td>153293</td></tr><tr><td>deli</td><td>fresh dips tapenades</td><td>Afternoon</td><td>151319</td></tr><tr><td>babies</td><td>baby food formula</td><td>Afternoon</td><td>150712</td></tr><tr><td>babies</td><td>baby food formula</td><td>Morning</td><td>142753</td></tr><tr><td>beverages</td><td>juice nectars</td><td>Afternoon</td><td>140671</td></tr><tr><td>dairy eggs</td><td>soy lactosefree</td><td>Evening</td><td>140065</td></tr><tr><td>frozen</td><td>ice cream ice</td><td>Evening</td><td>139599</td></tr><tr><td>pantry</td><td>baking ingredients</td><td>Afternoon</td><td>138926</td></tr><tr><td>breakfast</td><td>cereal</td><td>Morning</td><td>137903</td></tr><tr><td>frozen</td><td>ice cream ice</td><td>Morning</td><td>137181</td></tr><tr><td>deli</td><td>lunch meat</td><td>Morning</td><td>136333</td></tr><tr><td>dairy eggs</td><td>other creams cheeses</td><td>Afternoon</td><td>132375</td></tr><tr><td>dairy eggs</td><td>cream</td><td>Afternoon</td><td>131465</td></tr><tr><td>canned goods</td><td>canned jarred vegetables</td><td>Afternoon</td><td>131375</td></tr><tr><td>beverages</td><td>refrigerated</td><td>Evening</td><td>130733</td></tr><tr><td>meat seafood</td><td>hot dogs bacon sausage</td><td>Afternoon</td><td>130693</td></tr><tr><td>snacks</td><td>candy chocolate</td><td>Afternoon</td><td>130090</td></tr><tr><td>produce</td><td>fresh herbs</td><td>Morning</td><td>129159</td></tr><tr><td>beverages</td><td>soft drinks</td><td>Morning</td><td>128962</td></tr><tr><td>bakery</td><td>bread</td><td>Evening</td><td>127931</td></tr><tr><td>snacks</td><td>nuts seeds dried fruit</td><td>Afternoon</td><td>126661</td></tr><tr><td>dairy eggs</td><td>cream</td><td>Morning</td><td>126428</td></tr><tr><td>deli</td><td>fresh dips tapenades</td><td>Morning</td><td>124830</td></tr><tr><td>frozen</td><td>frozen meals</td><td>Morning</td><td>121856</td></tr><tr><td>pantry</td><td>spreads</td><td>Afternoon</td><td>120298</td></tr><tr><td>canned goods</td><td>canned meals beans</td><td>Afternoon</td><td>118835</td></tr><tr><td>frozen</td><td>frozen produce</td><td>Evening</td><td>118465</td></tr><tr><td>canned goods</td><td>soup broth bouillon</td><td>Morning</td><td>118452</td></tr><tr><td>dry goods pasta</td><td>dry pasta</td><td>Afternoon</td><td>116889</td></tr><tr><td>beverages</td><td>juice nectars</td><td>Morning</td><td>114224</td></tr><tr><td>pantry</td><td>baking ingredients</td><td>Morning</td><td>113169</td></tr><tr><td>snacks</td><td>nuts seeds dried fruit</td><td>Morning</td><td>112537</td></tr><tr><td>produce</td><td>packaged produce</td><td>Morning</td><td>112307</td></tr><tr><td>produce</td><td>packaged produce</td><td>Afternoon</td><td>109895</td></tr><tr><td>dairy eggs</td><td>butter</td><td>Afternoon</td><td>107865</td></tr><tr><td>dairy eggs</td><td>other creams cheeses</td><td>Morning</td><td>107378</td></tr><tr><td>meat seafood</td><td>hot dogs bacon sausage</td><td>Morning</td><td>105310</td></tr><tr><td>pantry</td><td>oils vinegars</td><td>Afternoon</td><td>104541</td></tr><tr><td>snacks</td><td>candy chocolate</td><td>Morning</td><td>103343</td></tr><tr><td>pantry</td><td>spreads</td><td>Morning</td><td>103308</td></tr><tr><td>beverages</td><td>tea</td><td>Afternoon</td><td>103173</td></tr><tr><td>dairy eggs</td><td>eggs</td><td>Evening</td><td>103057</td></tr><tr><td>bakery</td><td>breakfast bakery</td><td>Afternoon</td><td>102938</td></tr><tr><td>canned goods</td><td>canned jarred vegetables</td><td>Morning</td><td>102594</td></tr><tr><td>household</td><td>paper goods</td><td>Afternoon</td><td>101953</td></tr><tr><td>snacks</td><td>cookies cakes</td><td>Afternoon</td><td>99594</td></tr><tr><td>snacks</td><td>crackers</td><td>Evening</td><td>98016</td></tr><tr><td>frozen</td><td>frozen meals</td><td>Evening</td><td>97701</td></tr><tr><td>beverages</td><td>tea</td><td>Morning</td><td>97544</td></tr><tr><td>dry goods pasta</td><td>pasta sauce</td><td>Afternoon</td><td>96386</td></tr><tr><td>pantry</td><td>condiments</td><td>Afternoon</td><td>96353</td></tr><tr><td>frozen</td><td>frozen breakfast</td><td>Afternoon</td><td>95492</td></tr><tr><td>bakery</td><td>breakfast bakery</td><td>Morning</td><td>94556</td></tr><tr><td>pantry</td><td>spices seasonings</td><td>Afternoon</td><td>93780</td></tr><tr><td>produce</td><td>packaged vegetables fruits</td><td>Night</td><td>93286</td></tr><tr><td>canned goods</td><td>canned meals beans</td><td>Morning</td><td>91470</td></tr><tr><td>snacks</td><td>energy granola bars</td><td>Evening</td><td>91160</td></tr><tr><td>dairy eggs</td><td>butter</td><td>Morning</td><td>89843</td></tr><tr><td>dry goods pasta</td><td>dry pasta</td><td>Morning</td><td>89385</td></tr><tr><td>dry goods pasta</td><td>instant foods</td><td>Afternoon</td><td>88473</td></tr><tr><td>deli</td><td>lunch meat</td><td>Evening</td><td>86710</td></tr><tr><td>household</td><td>paper goods</td><td>Morning</td><td>85215</td></tr><tr><td>bakery</td><td>tortillas flat bread</td><td>Afternoon</td><td>85210</td></tr><tr><td>frozen</td><td>frozen appetizers sides</td><td>Afternoon</td><td>84958</td></tr><tr><td>pantry</td><td>oils vinegars</td><td>Morning</td><td>84879</td></tr><tr><td>beverages</td><td>coffee</td><td>Afternoon</td><td>84797</td></tr><tr><td>breakfast</td><td>cereal</td><td>Evening</td><td>84198</td></tr><tr><td>frozen</td><td>frozen breakfast</td><td>Morning</td><td>83332</td></tr><tr><td>babies</td><td>baby food formula</td><td>Evening</td><td>82371</td></tr><tr><td>beverages</td><td>coffee</td><td>Morning</td><td>81287</td></tr><tr><td>snacks</td><td>cookies cakes</td><td>Morning</td><td>80739</td></tr><tr><td>deli</td><td>fresh dips tapenades</td><td>Evening</td><td>77483</td></tr><tr><td>produce</td><td>fresh herbs</td><td>Evening</td><td>77003</td></tr><tr><td>beverages</td><td>juice nectars</td><td>Evening</td><td>75820</td></tr><tr><td>pantry</td><td>condiments</td><td>Morning</td><td>75579</td></tr><tr><td>beverages</td><td>soft drinks</td><td>Evening</td><td>74482</td></tr><tr><td>snacks</td><td>fruit vegetable snacks</td><td>Afternoon</td><td>73123</td></tr><tr><td>international</td><td>asian foods</td><td>Afternoon</td><td>73049</td></tr><tr><td>canned goods</td><td>soup broth bouillon</td><td>Evening</td><td>73011</td></tr><tr><td>dairy eggs</td><td>yogurt</td><td>Night</td><td>72874</td></tr><tr><td>dry goods pasta</td><td>pasta sauce</td><td>Morning</td><td>71930</td></tr><tr><td>frozen</td><td>frozen pizza</td><td>Afternoon</td><td>71266</td></tr><tr><td>pantry</td><td>spices seasonings</td><td>Morning</td><td>70975</td></tr><tr><td>snacks</td><td>popcorn jerky</td><td>Afternoon</td><td>69814</td></tr><tr><td>pantry</td><td>baking ingredients</td><td>Evening</td><td>69745</td></tr><tr><td>meat seafood</td><td>hot dogs bacon sausage</td><td>Evening</td><td>67437</td></tr><tr><td>dry goods pasta</td><td>instant foods</td><td>Morning</td><td>66587</td></tr><tr><td>dairy eggs</td><td>other creams cheeses</td><td>Evening</td><td>66040</td></tr><tr><td>frozen</td><td>frozen appetizers sides</td><td>Morning</td><td>65268</td></tr><tr><td>snacks</td><td>candy chocolate</td><td>Evening</td><td>65216</td></tr><tr><td>bakery</td><td>tortillas flat bread</td><td>Morning</td><td>64822</td></tr><tr><td>snacks</td><td>fruit vegetable snacks</td><td>Morning</td><td>64407</td></tr><tr><td>snacks</td><td>nuts seeds dried fruit</td><td>Evening</td><td>64108</td></tr><tr><td>breakfast</td><td>hot cereal pancake mixes</td><td>Afternoon</td><td>64052</td></tr><tr><td>pantry</td><td>spreads</td><td>Evening</td><td>63733</td></tr><tr><td>dry goods pasta</td><td>grains rice dried goods</td><td>Afternoon</td><td>61992</td></tr><tr><td>canned goods</td><td>canned jarred vegetables</td><td>Evening</td><td>60703</td></tr><tr><td>snacks</td><td>popcorn jerky</td><td>Morning</td><td>59521</td></tr><tr><td>dairy eggs</td><td>cream</td><td>Evening</td><td>59496</td></tr><tr><td>breakfast</td><td>hot cereal pancake mixes</td><td>Morning</td><td>58532</td></tr><tr><td>dry goods pasta</td><td>dry pasta</td><td>Evening</td><td>58023</td></tr><tr><td>canned goods</td><td>canned meals beans</td><td>Evening</td><td>58012</td></tr><tr><td>meat seafood</td><td>poultry counter</td><td>Afternoon</td><td>57595</td></tr><tr><td>household</td><td>paper goods</td><td>Evening</td><td>56534</td></tr><tr><td>deli</td><td>tofu meat alternatives</td><td>Afternoon</td><td>55342</td></tr><tr><td>international</td><td>asian foods</td><td>Morning</td><td>55098</td></tr><tr><td>dairy eggs</td><td>butter</td><td>Evening</td><td>54339</td></tr><tr><td>pantry</td><td>oils vinegars</td><td>Evening</td><td>53281</td></tr><tr><td>snacks</td><td>cookies cakes</td><td>Evening</td><td>52700</td></tr><tr><td>meat seafood</td><td>packaged poultry</td><td>Afternoon</td><td>52570</td></tr><tr><td>frozen</td><td>frozen breakfast</td><td>Evening</td><td>52196</td></tr><tr><td>bakery</td><td>breakfast bakery</td><td>Evening</td><td>51911</td></tr><tr><td>frozen</td><td>frozen pizza</td><td>Morning</td><td>50809</td></tr><tr><td>produce</td><td>packaged produce</td><td>Evening</td><td>50715</td></tr><tr><td>bakery</td><td>buns rolls</td><td>Afternoon</td><td>50119</td></tr><tr><td>pantry</td><td>pickled goods olives</td><td>Afternoon</td><td>49783</td></tr><tr><td>dry goods pasta</td><td>pasta sauce</td><td>Evening</td><td>49031</td></tr><tr><td>household</td><td>cleaning products</td><td>Afternoon</td><td>48964</td></tr><tr><td>dry goods pasta</td><td>grains rice dried goods</td><td>Morning</td><td>48678</td></tr><tr><td>pantry</td><td>preserved dips spreads</td><td>Afternoon</td><td>48242</td></tr><tr><td>pantry</td><td>condiments</td><td>Evening</td><td>48138</td></tr><tr><td>beverages</td><td>tea</td><td>Evening</td><td>47116</td></tr><tr><td>dairy eggs</td><td>packaged cheese</td><td>Night</td><td>46369</td></tr><tr><td>dry goods pasta</td><td>instant foods</td><td>Evening</td><td>46127</td></tr><tr><td>pantry</td><td>doughs gelatins bake mixes</td><td>Afternoon</td><td>46094</td></tr><tr><td>pantry</td><td>spices seasonings</td><td>Evening</td><td>44997</td></tr><tr><td>pantry</td><td>salad dressing toppings</td><td>Afternoon</td><td>44457</td></tr><tr><td>meat seafood</td><td>poultry counter</td><td>Morning</td><td>44439</td></tr><tr><td>household</td><td>cleaning products</td><td>Morning</td><td>44286</td></tr><tr><td>frozen</td><td>frozen appetizers sides</td><td>Evening</td><td>43797</td></tr><tr><td>beverages</td><td>energy sports drinks</td><td>Afternoon</td><td>43536</td></tr><tr><td>deli</td><td>prepared meals</td><td>Afternoon</td><td>43462</td></tr><tr><td>frozen</td><td>frozen vegan vegetarian</td><td>Afternoon</td><td>43094</td></tr><tr><td>bakery</td><td>tortillas flat bread</td><td>Evening</td><td>42701</td></tr><tr><td>breakfast</td><td>granola</td><td>Afternoon</td><td>41623</td></tr><tr><td>beverages</td><td>coffee</td><td>Evening</td><td>41378</td></tr><tr><td>deli</td><td>tofu meat alternatives</td><td>Morning</td><td>41162</td></tr><tr><td>dairy eggs</td><td>milk</td><td>Night</td><td>41080</td></tr><tr><td>frozen</td><td>frozen pizza</td><td>Evening</td><td>40681</td></tr><tr><td>meat seafood</td><td>packaged poultry</td><td>Morning</td><td>39529</td></tr><tr><td>household</td><td>laundry</td><td>Afternoon</td><td>39132</td></tr><tr><td>household</td><td>dish detergents</td><td>Afternoon</td><td>39041</td></tr><tr><td>bakery</td><td>buns rolls</td><td>Morning</td><td>38666</td></tr><tr><td>breakfast</td><td>granola</td><td>Morning</td><td>38291</td></tr><tr><td>beverages</td><td>energy sports drinks</td><td>Morning</td><td>36958</td></tr><tr><td>snacks</td><td>fruit vegetable snacks</td><td>Evening</td><td>36560</td></tr><tr><td>pantry</td><td>pickled goods olives</td><td>Morning</td><td>36522</td></tr><tr><td>canned goods</td><td>canned fruit applesauce</td><td>Afternoon</td><td>36450</td></tr><tr><td>international</td><td>asian foods</td><td>Evening</td><td>36432</td></tr><tr><td>beverages</td><td>water seltzer sparkling water</td><td>Night</td><td>36146</td></tr><tr><td>dairy eggs</td><td>specialty cheeses</td><td>Afternoon</td><td>36035</td></tr><tr><td>pantry</td><td>preserved dips spreads</td><td>Morning</td><td>35927</td></tr><tr><td>pantry</td><td>doughs gelatins bake mixes</td><td>Morning</td><td>35593</td></tr><tr><td>household</td><td>dish detergents</td><td>Morning</td><td>34699</td></tr><tr><td>household</td><td>laundry</td><td>Morning</td><td>34693</td></tr><tr><td>international</td><td>latino foods</td><td>Afternoon</td><td>34398</td></tr><tr><td>snacks</td><td>popcorn jerky</td><td>Evening</td><td>34262</td></tr><tr><td>breakfast</td><td>hot cereal pancake mixes</td><td>Evening</td><td>33818</td></tr><tr><td>pantry</td><td>salad dressing toppings</td><td>Morning</td><td>33026</td></tr><tr><td>deli</td><td>prepared meals</td><td>Morning</td><td>32560</td></tr><tr><td>dairy eggs</td><td>soy lactosefree</td><td>Night</td><td>32145</td></tr><tr><td>snacks</td><td>chips pretzels</td><td>Night</td><td>31887</td></tr><tr><td>meat seafood</td><td>meat counter</td><td>Afternoon</td><td>31615</td></tr><tr><td>dry goods pasta</td><td>grains rice dried goods</td><td>Evening</td><td>31502</td></tr><tr><td>missing</td><td>missing</td><td>Afternoon</td><td>31162</td></tr><tr><td>deli</td><td>prepared soups salads</td><td>Afternoon</td><td>31120</td></tr><tr><td>frozen</td><td>frozen vegan vegetarian</td><td>Morning</td><td>30877</td></tr><tr><td>canned goods</td><td>canned fruit applesauce</td><td>Morning</td><td>30559</td></tr><tr><td>frozen</td><td>frozen meat seafood</td><td>Afternoon</td><td>30490</td></tr><tr><td>deli</td><td>tofu meat alternatives</td><td>Evening</td><td>30403</td></tr><tr><td>breakfast</td><td>breakfast bars pastries</td><td>Afternoon</td><td>29688</td></tr><tr><td>frozen</td><td>frozen produce</td><td>Night</td><td>28939</td></tr><tr><td>canned goods</td><td>canned meat seafood</td><td>Afternoon</td><td>28862</td></tr><tr><td>beverages</td><td>refrigerated</td><td>Night</td><td>28825</td></tr><tr><td>pantry</td><td>marinades meat preparation</td><td>Afternoon</td><td>28235</td></tr><tr><td>breakfast</td><td>breakfast bars pastries</td><td>Morning</td><td>27953</td></tr><tr><td>dairy eggs</td><td>specialty cheeses</td><td>Morning</td><td>27677</td></tr><tr><td>pantry</td><td>honeys syrups nectars</td><td>Afternoon</td><td>27625</td></tr><tr><td>household</td><td>food storage</td><td>Afternoon</td><td>27441</td></tr><tr><td>pets</td><td>cat food care</td><td>Afternoon</td><td>27010</td></tr><tr><td>personal care</td><td>soap</td><td>Afternoon</td><td>26792</td></tr><tr><td>bakery</td><td>bread</td><td>Night</td><td>26790</td></tr><tr><td>meat seafood</td><td>poultry counter</td><td>Evening</td><td>26724</td></tr><tr><td>meat seafood</td><td>packaged poultry</td><td>Evening</td><td>26481</td></tr><tr><td>personal care</td><td>oral hygiene</td><td>Afternoon</td><td>26461</td></tr><tr><td>international</td><td>latino foods</td><td>Morning</td><td>25576</td></tr><tr><td>missing</td><td>missing</td><td>Morning</td><td>25418</td></tr><tr><td>pantry</td><td>pickled goods olives</td><td>Evening</td><td>25330</td></tr><tr><td>household</td><td>cleaning products</td><td>Evening</td><td>25218</td></tr><tr><td>deli</td><td>prepared soups salads</td><td>Morning</td><td>25033</td></tr><tr><td>frozen</td><td>frozen vegan vegetarian</td><td>Evening</td><td>24621</td></tr><tr><td>pantry</td><td>preserved dips spreads</td><td>Evening</td><td>24564</td></tr><tr><td>frozen</td><td>frozen meat seafood</td><td>Morning</td><td>24551</td></tr><tr><td>pantry</td><td>honeys syrups nectars</td><td>Morning</td><td>24461</td></tr><tr><td>pantry</td><td>doughs gelatins bake mixes</td><td>Evening</td><td>24006</td></tr><tr><td>frozen</td><td>ice cream ice</td><td>Night</td><td>23959</td></tr><tr><td>bakery</td><td>buns rolls</td><td>Evening</td><td>23861</td></tr><tr><td>meat seafood</td><td>meat counter</td><td>Morning</td><td>23826</td></tr><tr><td>household</td><td>food storage</td><td>Morning</td><td>23718</td></tr><tr><td>beverages</td><td>energy sports drinks</td><td>Evening</td><td>23656</td></tr><tr><td>alcohol</td><td>beers coolers</td><td>Afternoon</td><td>23352</td></tr><tr><td>deli</td><td>prepared meals</td><td>Evening</td><td>22803</td></tr><tr><td>dairy eggs</td><td>eggs</td><td>Night</td><td>22358</td></tr><tr><td>personal care</td><td>soap</td><td>Morning</td><td>22268</td></tr><tr><td>canned goods</td><td>canned meat seafood</td><td>Morning</td><td>22046</td></tr><tr><td>pantry</td><td>salad dressing toppings</td><td>Evening</td><td>21633</td></tr><tr><td>snacks</td><td>crackers</td><td>Night</td><td>21527</td></tr><tr><td>personal care</td><td>oral hygiene</td><td>Morning</td><td>21434</td></tr><tr><td>pantry</td><td>marinades meat preparation</td><td>Morning</td><td>21262</td></tr><tr><td>breakfast</td><td>granola</td><td>Evening</td><td>21217</td></tr><tr><td>household</td><td>laundry</td><td>Evening</td><td>20700</td></tr><tr><td>produce</td><td>fresh herbs</td><td>Night</td><td>20502</td></tr><tr><td>household</td><td>dish detergents</td><td>Evening</td><td>20395</td></tr><tr><td>frozen</td><td>frozen meals</td><td>Night</td><td>20300</td></tr><tr><td>pets</td><td>cat food care</td><td>Morning</td><td>20196</td></tr><tr><td>babies</td><td>baby food formula</td><td>Night</td><td>19818</td></tr><tr><td>canned goods</td><td>canned fruit applesauce</td><td>Evening</td><td>19471</td></tr><tr><td>snacks</td><td>energy granola bars</td><td>Night</td><td>19339</td></tr><tr><td>personal care</td><td>vitamins supplements</td><td>Afternoon</td><td>18569</td></tr><tr><td>deli</td><td>lunch meat</td><td>Night</td><td>18534</td></tr><tr><td>dairy eggs</td><td>specialty cheeses</td><td>Evening</td><td>18340</td></tr><tr><td>breakfast</td><td>cereal</td><td>Night</td><td>18325</td></tr><tr><td>pantry</td><td>baking ingredients</td><td>Night</td><td>17940</td></tr><tr><td>household</td><td>plates bowls cups flatware</td><td>Afternoon</td><td>17831</td></tr><tr><td>alcohol</td><td>beers coolers</td><td>Morning</td><td>17663</td></tr><tr><td>beverages</td><td>juice nectars</td><td>Night</td><td>17568</td></tr><tr><td>frozen</td><td>frozen breads doughs</td><td>Afternoon</td><td>17313</td></tr><tr><td>alcohol</td><td>red wines</td><td>Afternoon</td><td>17207</td></tr><tr><td>deli</td><td>fresh dips tapenades</td><td>Night</td><td>17195</td></tr><tr><td>personal care</td><td>body lotions soap</td><td>Afternoon</td><td>16827</td></tr><tr><td>canned goods</td><td>soup broth bouillon</td><td>Night</td><td>16817</td></tr><tr><td>missing</td><td>missing</td><td>Evening</td><td>16705</td></tr><tr><td>produce</td><td>packaged produce</td><td>Night</td><td>16571</td></tr><tr><td>personal care</td><td>vitamins supplements</td><td>Morning</td><td>16308</td></tr><tr><td>frozen</td><td>frozen meat seafood</td><td>Evening</td><td>16173</td></tr><tr><td>dry goods pasta</td><td>fresh pasta</td><td>Afternoon</td><td>16121</td></tr><tr><td>pets</td><td>cat food care</td><td>Evening</td><td>16043</td></tr><tr><td>dairy eggs</td><td>refrigerated pudding desserts</td><td>Afternoon</td><td>15969</td></tr><tr><td>household</td><td>plates bowls cups flatware</td><td>Morning</td><td>15928</td></tr><tr><td>snacks</td><td>nuts seeds dried fruit</td><td>Night</td><td>15713</td></tr><tr><td>bakery</td><td>bakery desserts</td><td>Afternoon</td><td>15664</td></tr><tr><td>other</td><td>other</td><td>Afternoon</td><td>15562</td></tr><tr><td>canned goods</td><td>canned meat seafood</td><td>Evening</td><td>15518</td></tr><tr><td>deli</td><td>prepared soups salads</td><td>Evening</td><td>15455</td></tr><tr><td>personal care</td><td>oral hygiene</td><td>Evening</td><td>15447</td></tr><tr><td>snacks</td><td>trail mix snack mix</td><td>Morning</td><td>15372</td></tr><tr><td>alcohol</td><td>white wines</td><td>Afternoon</td><td>15329</td></tr><tr><td>personal care</td><td>protein meal replacements</td><td>Afternoon</td><td>15290</td></tr><tr><td>beverages</td><td>soft drinks</td><td>Night</td><td>15152</td></tr><tr><td>international</td><td>latino foods</td><td>Evening</td><td>15073</td></tr><tr><td>meat seafood</td><td>meat counter</td><td>Evening</td><td>15063</td></tr><tr><td>canned goods</td><td>canned jarred vegetables</td><td>Night</td><td>15044</td></tr><tr><td>dairy eggs</td><td>other creams cheeses</td><td>Night</td><td>15034</td></tr><tr><td>meat seafood</td><td>hot dogs bacon sausage</td><td>Night</td><td>15028</td></tr><tr><td>meat seafood</td><td>packaged meat</td><td>Afternoon</td><td>15015</td></tr><tr><td>pets</td><td>dog food care</td><td>Afternoon</td><td>14690</td></tr><tr><td>snacks</td><td>trail mix snack mix</td><td>Afternoon</td><td>14673</td></tr><tr><td>breakfast</td><td>breakfast bars pastries</td><td>Evening</td><td>14387</td></tr><tr><td>personal care</td><td>soap</td><td>Evening</td><td>14344</td></tr><tr><td>household</td><td>food storage</td><td>Evening</td><td>14307</td></tr><tr><td>pantry</td><td>honeys syrups nectars</td><td>Evening</td><td>14231</td></tr><tr><td>pantry</td><td>spreads</td><td>Night</td><td>14163</td></tr><tr><td>personal care</td><td>body lotions soap</td><td>Morning</td><td>13779</td></tr><tr><td>canned goods</td><td>canned meals beans</td><td>Night</td><td>13771</td></tr><tr><td>personal care</td><td>hair care</td><td>Afternoon</td><td>13639</td></tr><tr><td>dry goods pasta</td><td>dry pasta</td><td>Night</td><td>13638</td></tr><tr><td>household</td><td>trash bags liners</td><td>Afternoon</td><td>13451</td></tr><tr><td>alcohol</td><td>spirits</td><td>Afternoon</td><td>13395</td></tr><tr><td>pantry</td><td>oils vinegars</td><td>Night</td><td>13385</td></tr><tr><td>snacks</td><td>candy chocolate</td><td>Night</td><td>13371</td></tr><tr><td>frozen</td><td>frozen breads doughs</td><td>Morning</td><td>13346</td></tr><tr><td>meat seafood</td><td>seafood counter</td><td>Afternoon</td><td>13077</td></tr><tr><td>dairy eggs</td><td>cream</td><td>Night</td><td>12969</td></tr><tr><td>dairy eggs</td><td>butter</td><td>Night</td><td>12845</td></tr><tr><td>pantry</td><td>marinades meat preparation</td><td>Evening</td><td>12839</td></tr><tr><td>other</td><td>other</td><td>Morning</td><td>12253</td></tr><tr><td>personal care</td><td>protein meal replacements</td><td>Morning</td><td>12217</td></tr><tr><td>household</td><td>paper goods</td><td>Night</td><td>11988</td></tr><tr><td>pantry</td><td>condiments</td><td>Night</td><td>11722</td></tr><tr><td>household</td><td>trash bags liners</td><td>Morning</td><td>11668</td></tr><tr><td>pantry</td><td>spices seasonings</td><td>Night</td><td>11619</td></tr><tr><td>dairy eggs</td><td>refrigerated pudding desserts</td><td>Morning</td><td>11588</td></tr><tr><td>meat seafood</td><td>packaged meat</td><td>Morning</td><td>11534</td></tr><tr><td>dry goods pasta</td><td>fresh pasta</td><td>Morning</td><td>11517</td></tr><tr><td>frozen</td><td>frozen breakfast</td><td>Night</td><td>11472</td></tr><tr><td>pets</td><td>dog food care</td><td>Morning</td><td>11276</td></tr><tr><td>personal care</td><td>digestion</td><td>Afternoon</td><td>11221</td></tr><tr><td>bakery</td><td>breakfast bakery</td><td>Night</td><td>11216</td></tr><tr><td>snacks</td><td>cookies cakes</td><td>Night</td><td>11012</td></tr><tr><td>bakery</td><td>bakery desserts</td><td>Morning</td><td>10957</td></tr><tr><td>beverages</td><td>tea</td><td>Night</td><td>10884</td></tr><tr><td>dry goods pasta</td><td>pasta sauce</td><td>Night</td><td>10776</td></tr><tr><td>personal care</td><td>cold flu allergy</td><td>Afternoon</td><td>10595</td></tr><tr><td>personal care</td><td>cold flu allergy</td><td>Morning</td><td>10250</td></tr><tr><td>personal care</td><td>hair care</td><td>Morning</td><td>10245</td></tr><tr><td>personal care</td><td>body lotions soap</td><td>Evening</td><td>10237</td></tr><tr><td>pantry</td><td>baking supplies decor</td><td>Afternoon</td><td>10199</td></tr><tr><td>babies</td><td>diapers wipes</td><td>Afternoon</td><td>9798</td></tr><tr><td>snacks</td><td>mint gum</td><td>Morning</td><td>9755</td></tr><tr><td>dairy eggs</td><td>refrigerated pudding desserts</td><td>Evening</td><td>9728</td></tr><tr><td>personal care</td><td>vitamins supplements</td><td>Evening</td><td>9657</td></tr><tr><td>meat seafood</td><td>seafood counter</td><td>Morning</td><td>9607</td></tr><tr><td>alcohol</td><td>red wines</td><td>Morning</td><td>9587</td></tr><tr><td>frozen</td><td>frozen appetizers sides</td><td>Night</td><td>9429</td></tr><tr><td>dry goods pasta</td><td>instant foods</td><td>Night</td><td>9417</td></tr><tr><td>household</td><td>plates bowls cups flatware</td><td>Evening</td><td>9256</td></tr><tr><td>personal care</td><td>digestion</td><td>Morning</td><td>9244</td></tr><tr><td>snacks</td><td>mint gum</td><td>Afternoon</td><td>9189</td></tr><tr><td>frozen</td><td>frozen breads doughs</td><td>Evening</td><td>9056</td></tr><tr><td>beverages</td><td>cocoa drink mixes</td><td>Afternoon</td><td>9037</td></tr><tr><td>international</td><td>asian foods</td><td>Night</td><td>9035</td></tr><tr><td>bakery</td><td>tortillas flat bread</td><td>Night</td><td>8917</td></tr><tr><td>alcohol</td><td>white wines</td><td>Morning</td><td>8879</td></tr><tr><td>household</td><td>air fresheners candles</td><td>Afternoon</td><td>8851</td></tr><tr><td>dry goods pasta</td><td>fresh pasta</td><td>Evening</td><td>8819</td></tr><tr><td>personal care</td><td>protein meal replacements</td><td>Evening</td><td>8815</td></tr><tr><td>alcohol</td><td>red wines</td><td>Evening</td><td>8764</td></tr><tr><td>babies</td><td>diapers wipes</td><td>Morning</td><td>8753</td></tr><tr><td>meat seafood</td><td>packaged seafood</td><td>Afternoon</td><td>8573</td></tr><tr><td>pets</td><td>dog food care</td><td>Evening</td><td>8482</td></tr><tr><td>frozen</td><td>frozen dessert</td><td>Afternoon</td><td>8452</td></tr><tr><td>other</td><td>other</td><td>Evening</td><td>8447</td></tr><tr><td>snacks</td><td>fruit vegetable snacks</td><td>Night</td><td>8408</td></tr><tr><td>alcohol</td><td>beers coolers</td><td>Evening</td><td>8349</td></tr><tr><td>personal care</td><td>feminine care</td><td>Afternoon</td><td>8277</td></tr><tr><td>dry goods pasta</td><td>grains rice dried goods</td><td>Night</td><td>8151</td></tr><tr><td>breakfast</td><td>hot cereal pancake mixes</td><td>Night</td><td>8114</td></tr><tr><td>bakery</td><td>bakery desserts</td><td>Evening</td><td>8042</td></tr><tr><td>beverages</td><td>coffee</td><td>Night</td><td>8005</td></tr><tr><td>pantry</td><td>baking supplies decor</td><td>Morning</td><td>7994</td></tr><tr><td>personal care</td><td>hair care</td><td>Evening</td><td>7974</td></tr><tr><td>alcohol</td><td>spirits</td><td>Morning</td><td>7887</td></tr><tr><td>personal care</td><td>muscles joints pain relief</td><td>Afternoon</td><td>7873</td></tr><tr><td>deli</td><td>tofu meat alternatives</td><td>Night</td><td>7690</td></tr><tr><td>household</td><td>more household</td><td>Afternoon</td><td>7523</td></tr><tr><td>bulk</td><td>bulk dried fruits vegetables</td><td>Afternoon</td><td>7284</td></tr><tr><td>meat seafood</td><td>packaged meat</td><td>Evening</td><td>7170</td></tr><tr><td>frozen</td><td>frozen pizza</td><td>Night</td><td>7123</td></tr><tr><td>household</td><td>trash bags liners</td><td>Evening</td><td>7079</td></tr><tr><td>international</td><td>indian foods</td><td>Afternoon</td><td>7053</td></tr><tr><td>beverages</td><td>cocoa drink mixes</td><td>Morning</td><td>7022</td></tr><tr><td>meat seafood</td><td>packaged seafood</td><td>Morning</td><td>6996</td></tr><tr><td>bulk</td><td>bulk grains rice dried goods</td><td>Afternoon</td><td>6979</td></tr><tr><td>alcohol</td><td>spirits</td><td>Evening</td><td>6944</td></tr><tr><td>snacks</td><td>popcorn jerky</td><td>Night</td><td>6844</td></tr><tr><td>personal care</td><td>feminine care</td><td>Morning</td><td>6843</td></tr><tr><td>alcohol</td><td>white wines</td><td>Evening</td><td>6715</td></tr><tr><td>household</td><td>air fresheners candles</td><td>Morning</td><td>6701</td></tr><tr><td>personal care</td><td>muscles joints pain relief</td><td>Morning</td><td>6585</td></tr><tr><td>meat seafood</td><td>seafood counter</td><td>Evening</td><td>6416</td></tr><tr><td>bulk</td><td>bulk dried fruits vegetables</td><td>Morning</td><td>6405</td></tr><tr><td>personal care</td><td>deodorants</td><td>Afternoon</td><td>6358</td></tr><tr><td>household</td><td>more household</td><td>Morning</td><td>6254</td></tr><tr><td>personal care</td><td>digestion</td><td>Evening</td><td>6149</td></tr><tr><td>babies</td><td>diapers wipes</td><td>Evening</td><td>5981</td></tr><tr><td>meat seafood</td><td>poultry counter</td><td>Night</td><td>5964</td></tr><tr><td>bulk</td><td>bulk grains rice dried goods</td><td>Morning</td><td>5911</td></tr><tr><td>household</td><td>cleaning products</td><td>Night</td><td>5903</td></tr><tr><td>pantry</td><td>pickled goods olives</td><td>Night</td><td>5886</td></tr><tr><td>frozen</td><td>frozen dessert</td><td>Morning</td><td>5857</td></tr><tr><td>snacks</td><td>trail mix snack mix</td><td>Evening</td><td>5737</td></tr><tr><td>personal care</td><td>cold flu allergy</td><td>Evening</td><td>5514</td></tr><tr><td>frozen</td><td>frozen vegan vegetarian</td><td>Night</td><td>5504</td></tr><tr><td>meat seafood</td><td>packaged poultry</td><td>Night</td><td>5465</td></tr><tr><td>bakery</td><td>buns rolls</td><td>Night</td><td>5423</td></tr><tr><td>alcohol</td><td>specialty wines champagnes</td><td>Afternoon</td><td>5304</td></tr><tr><td>pantry</td><td>baking supplies decor</td><td>Evening</td><td>5243</td></tr><tr><td>pantry</td><td>doughs gelatins bake mixes</td><td>Night</td><td>5154</td></tr><tr><td>pantry</td><td>preserved dips spreads</td><td>Night</td><td>5146</td></tr><tr><td>beverages</td><td>cocoa drink mixes</td><td>Evening</td><td>5140</td></tr><tr><td>personal care</td><td>facial care</td><td>Afternoon</td><td>5048</td></tr><tr><td>meat seafood</td><td>packaged seafood</td><td>Evening</td><td>5004</td></tr><tr><td>snacks</td><td>ice cream toppings</td><td>Afternoon</td><td>4982</td></tr><tr><td>pantry</td><td>salad dressing toppings</td><td>Night</td><td>4934</td></tr><tr><td>international</td><td>indian foods</td><td>Morning</td><td>4912</td></tr><tr><td>frozen</td><td>frozen dessert</td><td>Evening</td><td>4855</td></tr><tr><td>personal care</td><td>feminine care</td><td>Evening</td><td>4754</td></tr><tr><td>personal care</td><td>deodorants</td><td>Morning</td><td>4746</td></tr><tr><td>canned goods</td><td>canned fruit applesauce</td><td>Night</td><td>4713</td></tr><tr><td>international</td><td>kosher foods</td><td>Afternoon</td><td>4674</td></tr><tr><td>household</td><td>dish detergents</td><td>Night</td><td>4662</td></tr><tr><td>breakfast</td><td>granola</td><td>Night</td><td>4631</td></tr><tr><td>personal care</td><td>first aid</td><td>Afternoon</td><td>4483</td></tr><tr><td>household</td><td>laundry</td><td>Night</td><td>4465</td></tr><tr><td>personal care</td><td>skin care</td><td>Afternoon</td><td>4446</td></tr><tr><td>household</td><td>air fresheners candles</td><td>Evening</td><td>4401</td></tr><tr><td>personal care</td><td>shave needs</td><td>Afternoon</td><td>4351</td></tr><tr><td>deli</td><td>prepared meals</td><td>Night</td><td>4340</td></tr><tr><td>dairy eggs</td><td>specialty cheeses</td><td>Night</td><td>4312</td></tr><tr><td>personal care</td><td>muscles joints pain relief</td><td>Evening</td><td>4261</td></tr><tr><td>beverages</td><td>energy sports drinks</td><td>Night</td><td>4207</td></tr><tr><td>missing</td><td>missing</td><td>Night</td><td>4111</td></tr><tr><td>international</td><td>kosher foods</td><td>Morning</td><td>4097</td></tr><tr><td>personal care</td><td>facial care</td><td>Morning</td><td>4015</td></tr><tr><td>bulk</td><td>bulk grains rice dried goods</td><td>Evening</td><td>4009</td></tr><tr><td>household</td><td>kitchen supplies</td><td>Afternoon</td><td>3934</td></tr><tr><td>frozen</td><td>frozen meat seafood</td><td>Night</td><td>3869</td></tr><tr><td>canned goods</td><td>canned meat seafood</td><td>Night</td><td>3861</td></tr><tr><td>personal care</td><td>deodorants</td><td>Evening</td><td>3853</td></tr><tr><td>snacks</td><td>mint gum</td><td>Evening</td><td>3828</td></tr><tr><td>household</td><td>more household</td><td>Evening</td><td>3818</td></tr><tr><td>international</td><td>indian foods</td><td>Evening</td><td>3800</td></tr><tr><td>personal care</td><td>eye ear care</td><td>Afternoon</td><td>3649</td></tr><tr><td>personal care</td><td>first aid</td><td>Morning</td><td>3645</td></tr><tr><td>meat seafood</td><td>meat counter</td><td>Night</td><td>3542</td></tr><tr><td>bulk</td><td>bulk dried fruits vegetables</td><td>Evening</td><td>3505</td></tr><tr><td>personal care</td><td>oral hygiene</td><td>Night</td><td>3477</td></tr><tr><td>pantry</td><td>honeys syrups nectars</td><td>Night</td><td>3473</td></tr><tr><td>international</td><td>latino foods</td><td>Night</td><td>3448</td></tr><tr><td>personal care</td><td>soap</td><td>Night</td><td>3428</td></tr><tr><td>alcohol</td><td>specialty wines champagnes</td><td>Morning</td><td>3407</td></tr><tr><td>household</td><td>food storage</td><td>Night</td><td>3386</td></tr><tr><td>personal care</td><td>shave needs</td><td>Morning</td><td>3380</td></tr><tr><td>snacks</td><td>ice cream toppings</td><td>Morning</td><td>3366</td></tr><tr><td>personal care</td><td>skin care</td><td>Morning</td><td>3347</td></tr><tr><td>babies</td><td>baby bath body care</td><td>Afternoon</td><td>3323</td></tr><tr><td>babies</td><td>baby accessories</td><td>Afternoon</td><td>3280</td></tr><tr><td>deli</td><td>prepared soups salads</td><td>Night</td><td>3256</td></tr><tr><td>personal care</td><td>facial care</td><td>Evening</td><td>3211</td></tr><tr><td>household</td><td>kitchen supplies</td><td>Morning</td><td>3099</td></tr><tr><td>pantry</td><td>marinades meat preparation</td><td>Night</td><td>3079</td></tr><tr><td>pets</td><td>cat food care</td><td>Night</td><td>3057</td></tr><tr><td>personal care</td><td>eye ear care</td><td>Morning</td><td>3050</td></tr><tr><td>babies</td><td>baby bath body care</td><td>Morning</td><td>3046</td></tr><tr><td>babies</td><td>baby accessories</td><td>Morning</td><td>2983</td></tr><tr><td>breakfast</td><td>breakfast bars pastries</td><td>Night</td><td>2976</td></tr><tr><td>snacks</td><td>ice cream toppings</td><td>Evening</td><td>2842</td></tr><tr><td>international</td><td>kosher foods</td><td>Evening</td><td>2789</td></tr><tr><td>personal care</td><td>shave needs</td><td>Evening</td><td>2705</td></tr><tr><td>personal care</td><td>first aid</td><td>Evening</td><td>2680</td></tr><tr><td>alcohol</td><td>specialty wines champagnes</td><td>Evening</td><td>2579</td></tr><tr><td>personal care</td><td>beauty</td><td>Afternoon</td><td>2524</td></tr><tr><td>personal care</td><td>vitamins supplements</td><td>Night</td><td>2494</td></tr><tr><td>personal care</td><td>eye ear care</td><td>Evening</td><td>2353</td></tr><tr><td>personal care</td><td>skin care</td><td>Evening</td><td>2293</td></tr><tr><td>household</td><td>plates bowls cups flatware</td><td>Night</td><td>2292</td></tr><tr><td>frozen</td><td>frozen juice</td><td>Afternoon</td><td>2163</td></tr><tr><td>dairy eggs</td><td>refrigerated pudding desserts</td><td>Night</td><td>2135</td></tr><tr><td>personal care</td><td>body lotions soap</td><td>Night</td><td>2062</td></tr><tr><td>frozen</td><td>frozen breads doughs</td><td>Night</td><td>2025</td></tr><tr><td>household</td><td>kitchen supplies</td><td>Evening</td><td>2023</td></tr><tr><td>personal care</td><td>beauty</td><td>Morning</td><td>1992</td></tr><tr><td>babies</td><td>baby bath body care</td><td>Evening</td><td>1987</td></tr><tr><td>dry goods pasta</td><td>fresh pasta</td><td>Night</td><td>1898</td></tr><tr><td>personal care</td><td>protein meal replacements</td><td>Night</td><td>1889</td></tr><tr><td>other</td><td>other</td><td>Night</td><td>1824</td></tr><tr><td>babies</td><td>baby accessories</td><td>Evening</td><td>1769</td></tr><tr><td>bakery</td><td>bakery desserts</td><td>Night</td><td>1709</td></tr><tr><td>meat seafood</td><td>packaged meat</td><td>Night</td><td>1672</td></tr><tr><td>meat seafood</td><td>seafood counter</td><td>Night</td><td>1626</td></tr><tr><td>personal care</td><td>hair care</td><td>Night</td><td>1624</td></tr><tr><td>frozen</td><td>frozen juice</td><td>Morning</td><td>1596</td></tr><tr><td>personal care</td><td>beauty</td><td>Evening</td><td>1552</td></tr><tr><td>household</td><td>trash bags liners</td><td>Night</td><td>1504</td></tr><tr><td>pets</td><td>dog food care</td><td>Night</td><td>1467</td></tr><tr><td>personal care</td><td>digestion</td><td>Night</td><td>1464</td></tr><tr><td>pantry</td><td>baking supplies decor</td><td>Night</td><td>1350</td></tr><tr><td>snacks</td><td>trail mix snack mix</td><td>Night</td><td>1271</td></tr><tr><td>meat seafood</td><td>packaged seafood</td><td>Night</td><td>1267</td></tr><tr><td>babies</td><td>diapers wipes</td><td>Night</td><td>1182</td></tr><tr><td>frozen</td><td>frozen juice</td><td>Evening</td><td>1164</td></tr><tr><td>alcohol</td><td>beers coolers</td><td>Night</td><td>1132</td></tr><tr><td>beverages</td><td>cocoa drink mixes</td><td>Night</td><td>1077</td></tr><tr><td>frozen</td><td>frozen dessert</td><td>Night</td><td>1077</td></tr><tr><td>personal care</td><td>cold flu allergy</td><td>Night</td><td>1048</td></tr><tr><td>household</td><td>air fresheners candles</td><td>Night</td><td>965</td></tr><tr><td>bulk</td><td>bulk grains rice dried goods</td><td>Night</td><td>940</td></tr><tr><td>personal care</td><td>feminine care</td><td>Night</td><td>927</td></tr><tr><td>bulk</td><td>bulk dried fruits vegetables</td><td>Night</td><td>899</td></tr><tr><td>alcohol</td><td>red wines</td><td>Night</td><td>866</td></tr><tr><td>international</td><td>kosher foods</td><td>Night</td><td>866</td></tr><tr><td>personal care</td><td>muscles joints pain relief</td><td>Night</td><td>861</td></tr><tr><td>international</td><td>indian foods</td><td>Night</td><td>855</td></tr><tr><td>snacks</td><td>mint gum</td><td>Night</td><td>854</td></tr><tr><td>alcohol</td><td>spirits</td><td>Night</td><td>843</td></tr><tr><td>household</td><td>more household</td><td>Night</td><td>807</td></tr><tr><td>alcohol</td><td>white wines</td><td>Night</td><td>723</td></tr><tr><td>personal care</td><td>deodorants</td><td>Night</td><td>716</td></tr><tr><td>personal care</td><td>facial care</td><td>Night</td><td>641</td></tr><tr><td>personal care</td><td>skin care</td><td>Night</td><td>612</td></tr><tr><td>personal care</td><td>first aid</td><td>Night</td><td>603</td></tr><tr><td>household</td><td>kitchen supplies</td><td>Night</td><td>564</td></tr><tr><td>babies</td><td>baby bath body care</td><td>Night</td><td>553</td></tr><tr><td>snacks</td><td>ice cream toppings</td><td>Night</td><td>516</td></tr><tr><td>personal care</td><td>eye ear care</td><td>Night</td><td>470</td></tr><tr><td>personal care</td><td>shave needs</td><td>Night</td><td>440</td></tr><tr><td>babies</td><td>baby accessories</td><td>Night</td><td>434</td></tr><tr><td>personal care</td><td>beauty</td><td>Night</td><td>387</td></tr><tr><td>alcohol</td><td>specialty wines champagnes</td><td>Night</td><td>369</td></tr><tr><td>frozen</td><td>frozen juice</td><td>Night</td><td>224</td></tr></tbody></table></div>"
      ]
     },
     "metadata": {
      "application/vnd.databricks.v1+output": {
       "addedWidgets": {},
       "aggData": [],
       "aggError": "",
       "aggOverflow": false,
       "aggSchema": [],
       "aggSeriesLimitReached": false,
       "aggType": "",
       "arguments": {},
       "columnCustomDisplayInfos": {},
       "data": [
        [
         "produce",
         "fresh fruits",
         "Afternoon",
         1508846
        ],
        [
         "produce",
         "fresh vegetables",
         "Afternoon",
         1482001
        ],
        [
         "produce",
         "fresh fruits",
         "Morning",
         1313031
        ],
        [
         "produce",
         "fresh vegetables",
         "Morning",
         1164247
        ],
        [
         "produce",
         "fresh fruits",
         "Evening",
         784450
        ],
        [
         "produce",
         "packaged vegetables fruits",
         "Afternoon",
         748187
        ],
        [
         "produce",
         "fresh vegetables",
         "Evening",
         736228
        ],
        [
         "produce",
         "packaged vegetables fruits",
         "Morning",
         615034
        ],
        [
         "dairy eggs",
         "yogurt",
         "Afternoon",
         587757
        ],
        [
         "dairy eggs",
         "yogurt",
         "Morning",
         536288
        ],
        [
         "dairy eggs",
         "packaged cheese",
         "Afternoon",
         421919
        ],
        [
         "produce",
         "packaged vegetables fruits",
         "Evening",
         387299
        ],
        [
         "dairy eggs",
         "milk",
         "Afternoon",
         360323
        ],
        [
         "beverages",
         "water seltzer sparkling water",
         "Afternoon",
         353943
        ],
        [
         "dairy eggs",
         "packaged cheese",
         "Morning",
         342591
        ],
        [
         "dairy eggs",
         "milk",
         "Morning",
         330704
        ],
        [
         "snacks",
         "chips pretzels",
         "Afternoon",
         313380
        ],
        [
         "dairy eggs",
         "yogurt",
         "Evening",
         310664
        ],
        [
         "beverages",
         "water seltzer sparkling water",
         "Morning",
         310639
        ],
        [
         "dairy eggs",
         "soy lactosefree",
         "Afternoon",
         264028
        ],
        [
         "snacks",
         "chips pretzels",
         "Morning",
         252391
        ],
        [
         "bakery",
         "bread",
         "Afternoon",
         248887
        ],
        [
         "beverages",
         "refrigerated",
         "Afternoon",
         240687
        ],
        [
         "dairy eggs",
         "soy lactosefree",
         "Morning",
         228255
        ],
        [
         "frozen",
         "frozen produce",
         "Afternoon",
         221588
        ],
        [
         "frozen",
         "ice cream ice",
         "Afternoon",
         220362
        ],
        [
         "dairy eggs",
         "packaged cheese",
         "Evening",
         210583
        ],
        [
         "bakery",
         "bread",
         "Morning",
         204861
        ],
        [
         "beverages",
         "refrigerated",
         "Morning",
         198864
        ],
        [
         "snacks",
         "crackers",
         "Afternoon",
         193028
        ],
        [
         "dairy eggs",
         "milk",
         "Evening",
         191552
        ],
        [
         "dairy eggs",
         "eggs",
         "Afternoon",
         190504
        ],
        [
         "snacks",
         "energy granola bars",
         "Afternoon",
         188533
        ],
        [
         "produce",
         "fresh fruits",
         "Night",
         186334
        ],
        [
         "produce",
         "fresh vegetables",
         "Night",
         186154
        ],
        [
         "beverages",
         "water seltzer sparkling water",
         "Evening",
         177422
        ],
        [
         "frozen",
         "frozen produce",
         "Morning",
         176115
        ],
        [
         "snacks",
         "energy granola bars",
         "Morning",
         174803
        ],
        [
         "deli",
         "lunch meat",
         "Afternoon",
         170510
        ],
        [
         "frozen",
         "frozen meals",
         "Afternoon",
         168663
        ],
        [
         "produce",
         "fresh herbs",
         "Afternoon",
         167129
        ],
        [
         "snacks",
         "crackers",
         "Morning",
         165859
        ],
        [
         "dairy eggs",
         "eggs",
         "Morning",
         156090
        ],
        [
         "snacks",
         "chips pretzels",
         "Evening",
         156081
        ],
        [
         "beverages",
         "soft drinks",
         "Afternoon",
         155220
        ],
        [
         "breakfast",
         "cereal",
         "Afternoon",
         153361
        ],
        [
         "canned goods",
         "soup broth bouillon",
         "Afternoon",
         153293
        ],
        [
         "deli",
         "fresh dips tapenades",
         "Afternoon",
         151319
        ],
        [
         "babies",
         "baby food formula",
         "Afternoon",
         150712
        ],
        [
         "babies",
         "baby food formula",
         "Morning",
         142753
        ],
        [
         "beverages",
         "juice nectars",
         "Afternoon",
         140671
        ],
        [
         "dairy eggs",
         "soy lactosefree",
         "Evening",
         140065
        ],
        [
         "frozen",
         "ice cream ice",
         "Evening",
         139599
        ],
        [
         "pantry",
         "baking ingredients",
         "Afternoon",
         138926
        ],
        [
         "breakfast",
         "cereal",
         "Morning",
         137903
        ],
        [
         "frozen",
         "ice cream ice",
         "Morning",
         137181
        ],
        [
         "deli",
         "lunch meat",
         "Morning",
         136333
        ],
        [
         "dairy eggs",
         "other creams cheeses",
         "Afternoon",
         132375
        ],
        [
         "dairy eggs",
         "cream",
         "Afternoon",
         131465
        ],
        [
         "canned goods",
         "canned jarred vegetables",
         "Afternoon",
         131375
        ],
        [
         "beverages",
         "refrigerated",
         "Evening",
         130733
        ],
        [
         "meat seafood",
         "hot dogs bacon sausage",
         "Afternoon",
         130693
        ],
        [
         "snacks",
         "candy chocolate",
         "Afternoon",
         130090
        ],
        [
         "produce",
         "fresh herbs",
         "Morning",
         129159
        ],
        [
         "beverages",
         "soft drinks",
         "Morning",
         128962
        ],
        [
         "bakery",
         "bread",
         "Evening",
         127931
        ],
        [
         "snacks",
         "nuts seeds dried fruit",
         "Afternoon",
         126661
        ],
        [
         "dairy eggs",
         "cream",
         "Morning",
         126428
        ],
        [
         "deli",
         "fresh dips tapenades",
         "Morning",
         124830
        ],
        [
         "frozen",
         "frozen meals",
         "Morning",
         121856
        ],
        [
         "pantry",
         "spreads",
         "Afternoon",
         120298
        ],
        [
         "canned goods",
         "canned meals beans",
         "Afternoon",
         118835
        ],
        [
         "frozen",
         "frozen produce",
         "Evening",
         118465
        ],
        [
         "canned goods",
         "soup broth bouillon",
         "Morning",
         118452
        ],
        [
         "dry goods pasta",
         "dry pasta",
         "Afternoon",
         116889
        ],
        [
         "beverages",
         "juice nectars",
         "Morning",
         114224
        ],
        [
         "pantry",
         "baking ingredients",
         "Morning",
         113169
        ],
        [
         "snacks",
         "nuts seeds dried fruit",
         "Morning",
         112537
        ],
        [
         "produce",
         "packaged produce",
         "Morning",
         112307
        ],
        [
         "produce",
         "packaged produce",
         "Afternoon",
         109895
        ],
        [
         "dairy eggs",
         "butter",
         "Afternoon",
         107865
        ],
        [
         "dairy eggs",
         "other creams cheeses",
         "Morning",
         107378
        ],
        [
         "meat seafood",
         "hot dogs bacon sausage",
         "Morning",
         105310
        ],
        [
         "pantry",
         "oils vinegars",
         "Afternoon",
         104541
        ],
        [
         "snacks",
         "candy chocolate",
         "Morning",
         103343
        ],
        [
         "pantry",
         "spreads",
         "Morning",
         103308
        ],
        [
         "beverages",
         "tea",
         "Afternoon",
         103173
        ],
        [
         "dairy eggs",
         "eggs",
         "Evening",
         103057
        ],
        [
         "bakery",
         "breakfast bakery",
         "Afternoon",
         102938
        ],
        [
         "canned goods",
         "canned jarred vegetables",
         "Morning",
         102594
        ],
        [
         "household",
         "paper goods",
         "Afternoon",
         101953
        ],
        [
         "snacks",
         "cookies cakes",
         "Afternoon",
         99594
        ],
        [
         "snacks",
         "crackers",
         "Evening",
         98016
        ],
        [
         "frozen",
         "frozen meals",
         "Evening",
         97701
        ],
        [
         "beverages",
         "tea",
         "Morning",
         97544
        ],
        [
         "dry goods pasta",
         "pasta sauce",
         "Afternoon",
         96386
        ],
        [
         "pantry",
         "condiments",
         "Afternoon",
         96353
        ],
        [
         "frozen",
         "frozen breakfast",
         "Afternoon",
         95492
        ],
        [
         "bakery",
         "breakfast bakery",
         "Morning",
         94556
        ],
        [
         "pantry",
         "spices seasonings",
         "Afternoon",
         93780
        ],
        [
         "produce",
         "packaged vegetables fruits",
         "Night",
         93286
        ],
        [
         "canned goods",
         "canned meals beans",
         "Morning",
         91470
        ],
        [
         "snacks",
         "energy granola bars",
         "Evening",
         91160
        ],
        [
         "dairy eggs",
         "butter",
         "Morning",
         89843
        ],
        [
         "dry goods pasta",
         "dry pasta",
         "Morning",
         89385
        ],
        [
         "dry goods pasta",
         "instant foods",
         "Afternoon",
         88473
        ],
        [
         "deli",
         "lunch meat",
         "Evening",
         86710
        ],
        [
         "household",
         "paper goods",
         "Morning",
         85215
        ],
        [
         "bakery",
         "tortillas flat bread",
         "Afternoon",
         85210
        ],
        [
         "frozen",
         "frozen appetizers sides",
         "Afternoon",
         84958
        ],
        [
         "pantry",
         "oils vinegars",
         "Morning",
         84879
        ],
        [
         "beverages",
         "coffee",
         "Afternoon",
         84797
        ],
        [
         "breakfast",
         "cereal",
         "Evening",
         84198
        ],
        [
         "frozen",
         "frozen breakfast",
         "Morning",
         83332
        ],
        [
         "babies",
         "baby food formula",
         "Evening",
         82371
        ],
        [
         "beverages",
         "coffee",
         "Morning",
         81287
        ],
        [
         "snacks",
         "cookies cakes",
         "Morning",
         80739
        ],
        [
         "deli",
         "fresh dips tapenades",
         "Evening",
         77483
        ],
        [
         "produce",
         "fresh herbs",
         "Evening",
         77003
        ],
        [
         "beverages",
         "juice nectars",
         "Evening",
         75820
        ],
        [
         "pantry",
         "condiments",
         "Morning",
         75579
        ],
        [
         "beverages",
         "soft drinks",
         "Evening",
         74482
        ],
        [
         "snacks",
         "fruit vegetable snacks",
         "Afternoon",
         73123
        ],
        [
         "international",
         "asian foods",
         "Afternoon",
         73049
        ],
        [
         "canned goods",
         "soup broth bouillon",
         "Evening",
         73011
        ],
        [
         "dairy eggs",
         "yogurt",
         "Night",
         72874
        ],
        [
         "dry goods pasta",
         "pasta sauce",
         "Morning",
         71930
        ],
        [
         "frozen",
         "frozen pizza",
         "Afternoon",
         71266
        ],
        [
         "pantry",
         "spices seasonings",
         "Morning",
         70975
        ],
        [
         "snacks",
         "popcorn jerky",
         "Afternoon",
         69814
        ],
        [
         "pantry",
         "baking ingredients",
         "Evening",
         69745
        ],
        [
         "meat seafood",
         "hot dogs bacon sausage",
         "Evening",
         67437
        ],
        [
         "dry goods pasta",
         "instant foods",
         "Morning",
         66587
        ],
        [
         "dairy eggs",
         "other creams cheeses",
         "Evening",
         66040
        ],
        [
         "frozen",
         "frozen appetizers sides",
         "Morning",
         65268
        ],
        [
         "snacks",
         "candy chocolate",
         "Evening",
         65216
        ],
        [
         "bakery",
         "tortillas flat bread",
         "Morning",
         64822
        ],
        [
         "snacks",
         "fruit vegetable snacks",
         "Morning",
         64407
        ],
        [
         "snacks",
         "nuts seeds dried fruit",
         "Evening",
         64108
        ],
        [
         "breakfast",
         "hot cereal pancake mixes",
         "Afternoon",
         64052
        ],
        [
         "pantry",
         "spreads",
         "Evening",
         63733
        ],
        [
         "dry goods pasta",
         "grains rice dried goods",
         "Afternoon",
         61992
        ],
        [
         "canned goods",
         "canned jarred vegetables",
         "Evening",
         60703
        ],
        [
         "snacks",
         "popcorn jerky",
         "Morning",
         59521
        ],
        [
         "dairy eggs",
         "cream",
         "Evening",
         59496
        ],
        [
         "breakfast",
         "hot cereal pancake mixes",
         "Morning",
         58532
        ],
        [
         "dry goods pasta",
         "dry pasta",
         "Evening",
         58023
        ],
        [
         "canned goods",
         "canned meals beans",
         "Evening",
         58012
        ],
        [
         "meat seafood",
         "poultry counter",
         "Afternoon",
         57595
        ],
        [
         "household",
         "paper goods",
         "Evening",
         56534
        ],
        [
         "deli",
         "tofu meat alternatives",
         "Afternoon",
         55342
        ],
        [
         "international",
         "asian foods",
         "Morning",
         55098
        ],
        [
         "dairy eggs",
         "butter",
         "Evening",
         54339
        ],
        [
         "pantry",
         "oils vinegars",
         "Evening",
         53281
        ],
        [
         "snacks",
         "cookies cakes",
         "Evening",
         52700
        ],
        [
         "meat seafood",
         "packaged poultry",
         "Afternoon",
         52570
        ],
        [
         "frozen",
         "frozen breakfast",
         "Evening",
         52196
        ],
        [
         "bakery",
         "breakfast bakery",
         "Evening",
         51911
        ],
        [
         "frozen",
         "frozen pizza",
         "Morning",
         50809
        ],
        [
         "produce",
         "packaged produce",
         "Evening",
         50715
        ],
        [
         "bakery",
         "buns rolls",
         "Afternoon",
         50119
        ],
        [
         "pantry",
         "pickled goods olives",
         "Afternoon",
         49783
        ],
        [
         "dry goods pasta",
         "pasta sauce",
         "Evening",
         49031
        ],
        [
         "household",
         "cleaning products",
         "Afternoon",
         48964
        ],
        [
         "dry goods pasta",
         "grains rice dried goods",
         "Morning",
         48678
        ],
        [
         "pantry",
         "preserved dips spreads",
         "Afternoon",
         48242
        ],
        [
         "pantry",
         "condiments",
         "Evening",
         48138
        ],
        [
         "beverages",
         "tea",
         "Evening",
         47116
        ],
        [
         "dairy eggs",
         "packaged cheese",
         "Night",
         46369
        ],
        [
         "dry goods pasta",
         "instant foods",
         "Evening",
         46127
        ],
        [
         "pantry",
         "doughs gelatins bake mixes",
         "Afternoon",
         46094
        ],
        [
         "pantry",
         "spices seasonings",
         "Evening",
         44997
        ],
        [
         "pantry",
         "salad dressing toppings",
         "Afternoon",
         44457
        ],
        [
         "meat seafood",
         "poultry counter",
         "Morning",
         44439
        ],
        [
         "household",
         "cleaning products",
         "Morning",
         44286
        ],
        [
         "frozen",
         "frozen appetizers sides",
         "Evening",
         43797
        ],
        [
         "beverages",
         "energy sports drinks",
         "Afternoon",
         43536
        ],
        [
         "deli",
         "prepared meals",
         "Afternoon",
         43462
        ],
        [
         "frozen",
         "frozen vegan vegetarian",
         "Afternoon",
         43094
        ],
        [
         "bakery",
         "tortillas flat bread",
         "Evening",
         42701
        ],
        [
         "breakfast",
         "granola",
         "Afternoon",
         41623
        ],
        [
         "beverages",
         "coffee",
         "Evening",
         41378
        ],
        [
         "deli",
         "tofu meat alternatives",
         "Morning",
         41162
        ],
        [
         "dairy eggs",
         "milk",
         "Night",
         41080
        ],
        [
         "frozen",
         "frozen pizza",
         "Evening",
         40681
        ],
        [
         "meat seafood",
         "packaged poultry",
         "Morning",
         39529
        ],
        [
         "household",
         "laundry",
         "Afternoon",
         39132
        ],
        [
         "household",
         "dish detergents",
         "Afternoon",
         39041
        ],
        [
         "bakery",
         "buns rolls",
         "Morning",
         38666
        ],
        [
         "breakfast",
         "granola",
         "Morning",
         38291
        ],
        [
         "beverages",
         "energy sports drinks",
         "Morning",
         36958
        ],
        [
         "snacks",
         "fruit vegetable snacks",
         "Evening",
         36560
        ],
        [
         "pantry",
         "pickled goods olives",
         "Morning",
         36522
        ],
        [
         "canned goods",
         "canned fruit applesauce",
         "Afternoon",
         36450
        ],
        [
         "international",
         "asian foods",
         "Evening",
         36432
        ],
        [
         "beverages",
         "water seltzer sparkling water",
         "Night",
         36146
        ],
        [
         "dairy eggs",
         "specialty cheeses",
         "Afternoon",
         36035
        ],
        [
         "pantry",
         "preserved dips spreads",
         "Morning",
         35927
        ],
        [
         "pantry",
         "doughs gelatins bake mixes",
         "Morning",
         35593
        ],
        [
         "household",
         "dish detergents",
         "Morning",
         34699
        ],
        [
         "household",
         "laundry",
         "Morning",
         34693
        ],
        [
         "international",
         "latino foods",
         "Afternoon",
         34398
        ],
        [
         "snacks",
         "popcorn jerky",
         "Evening",
         34262
        ],
        [
         "breakfast",
         "hot cereal pancake mixes",
         "Evening",
         33818
        ],
        [
         "pantry",
         "salad dressing toppings",
         "Morning",
         33026
        ],
        [
         "deli",
         "prepared meals",
         "Morning",
         32560
        ],
        [
         "dairy eggs",
         "soy lactosefree",
         "Night",
         32145
        ],
        [
         "snacks",
         "chips pretzels",
         "Night",
         31887
        ],
        [
         "meat seafood",
         "meat counter",
         "Afternoon",
         31615
        ],
        [
         "dry goods pasta",
         "grains rice dried goods",
         "Evening",
         31502
        ],
        [
         "missing",
         "missing",
         "Afternoon",
         31162
        ],
        [
         "deli",
         "prepared soups salads",
         "Afternoon",
         31120
        ],
        [
         "frozen",
         "frozen vegan vegetarian",
         "Morning",
         30877
        ],
        [
         "canned goods",
         "canned fruit applesauce",
         "Morning",
         30559
        ],
        [
         "frozen",
         "frozen meat seafood",
         "Afternoon",
         30490
        ],
        [
         "deli",
         "tofu meat alternatives",
         "Evening",
         30403
        ],
        [
         "breakfast",
         "breakfast bars pastries",
         "Afternoon",
         29688
        ],
        [
         "frozen",
         "frozen produce",
         "Night",
         28939
        ],
        [
         "canned goods",
         "canned meat seafood",
         "Afternoon",
         28862
        ],
        [
         "beverages",
         "refrigerated",
         "Night",
         28825
        ],
        [
         "pantry",
         "marinades meat preparation",
         "Afternoon",
         28235
        ],
        [
         "breakfast",
         "breakfast bars pastries",
         "Morning",
         27953
        ],
        [
         "dairy eggs",
         "specialty cheeses",
         "Morning",
         27677
        ],
        [
         "pantry",
         "honeys syrups nectars",
         "Afternoon",
         27625
        ],
        [
         "household",
         "food storage",
         "Afternoon",
         27441
        ],
        [
         "pets",
         "cat food care",
         "Afternoon",
         27010
        ],
        [
         "personal care",
         "soap",
         "Afternoon",
         26792
        ],
        [
         "bakery",
         "bread",
         "Night",
         26790
        ],
        [
         "meat seafood",
         "poultry counter",
         "Evening",
         26724
        ],
        [
         "meat seafood",
         "packaged poultry",
         "Evening",
         26481
        ],
        [
         "personal care",
         "oral hygiene",
         "Afternoon",
         26461
        ],
        [
         "international",
         "latino foods",
         "Morning",
         25576
        ],
        [
         "missing",
         "missing",
         "Morning",
         25418
        ],
        [
         "pantry",
         "pickled goods olives",
         "Evening",
         25330
        ],
        [
         "household",
         "cleaning products",
         "Evening",
         25218
        ],
        [
         "deli",
         "prepared soups salads",
         "Morning",
         25033
        ],
        [
         "frozen",
         "frozen vegan vegetarian",
         "Evening",
         24621
        ],
        [
         "pantry",
         "preserved dips spreads",
         "Evening",
         24564
        ],
        [
         "frozen",
         "frozen meat seafood",
         "Morning",
         24551
        ],
        [
         "pantry",
         "honeys syrups nectars",
         "Morning",
         24461
        ],
        [
         "pantry",
         "doughs gelatins bake mixes",
         "Evening",
         24006
        ],
        [
         "frozen",
         "ice cream ice",
         "Night",
         23959
        ],
        [
         "bakery",
         "buns rolls",
         "Evening",
         23861
        ],
        [
         "meat seafood",
         "meat counter",
         "Morning",
         23826
        ],
        [
         "household",
         "food storage",
         "Morning",
         23718
        ],
        [
         "beverages",
         "energy sports drinks",
         "Evening",
         23656
        ],
        [
         "alcohol",
         "beers coolers",
         "Afternoon",
         23352
        ],
        [
         "deli",
         "prepared meals",
         "Evening",
         22803
        ],
        [
         "dairy eggs",
         "eggs",
         "Night",
         22358
        ],
        [
         "personal care",
         "soap",
         "Morning",
         22268
        ],
        [
         "canned goods",
         "canned meat seafood",
         "Morning",
         22046
        ],
        [
         "pantry",
         "salad dressing toppings",
         "Evening",
         21633
        ],
        [
         "snacks",
         "crackers",
         "Night",
         21527
        ],
        [
         "personal care",
         "oral hygiene",
         "Morning",
         21434
        ],
        [
         "pantry",
         "marinades meat preparation",
         "Morning",
         21262
        ],
        [
         "breakfast",
         "granola",
         "Evening",
         21217
        ],
        [
         "household",
         "laundry",
         "Evening",
         20700
        ],
        [
         "produce",
         "fresh herbs",
         "Night",
         20502
        ],
        [
         "household",
         "dish detergents",
         "Evening",
         20395
        ],
        [
         "frozen",
         "frozen meals",
         "Night",
         20300
        ],
        [
         "pets",
         "cat food care",
         "Morning",
         20196
        ],
        [
         "babies",
         "baby food formula",
         "Night",
         19818
        ],
        [
         "canned goods",
         "canned fruit applesauce",
         "Evening",
         19471
        ],
        [
         "snacks",
         "energy granola bars",
         "Night",
         19339
        ],
        [
         "personal care",
         "vitamins supplements",
         "Afternoon",
         18569
        ],
        [
         "deli",
         "lunch meat",
         "Night",
         18534
        ],
        [
         "dairy eggs",
         "specialty cheeses",
         "Evening",
         18340
        ],
        [
         "breakfast",
         "cereal",
         "Night",
         18325
        ],
        [
         "pantry",
         "baking ingredients",
         "Night",
         17940
        ],
        [
         "household",
         "plates bowls cups flatware",
         "Afternoon",
         17831
        ],
        [
         "alcohol",
         "beers coolers",
         "Morning",
         17663
        ],
        [
         "beverages",
         "juice nectars",
         "Night",
         17568
        ],
        [
         "frozen",
         "frozen breads doughs",
         "Afternoon",
         17313
        ],
        [
         "alcohol",
         "red wines",
         "Afternoon",
         17207
        ],
        [
         "deli",
         "fresh dips tapenades",
         "Night",
         17195
        ],
        [
         "personal care",
         "body lotions soap",
         "Afternoon",
         16827
        ],
        [
         "canned goods",
         "soup broth bouillon",
         "Night",
         16817
        ],
        [
         "missing",
         "missing",
         "Evening",
         16705
        ],
        [
         "produce",
         "packaged produce",
         "Night",
         16571
        ],
        [
         "personal care",
         "vitamins supplements",
         "Morning",
         16308
        ],
        [
         "frozen",
         "frozen meat seafood",
         "Evening",
         16173
        ],
        [
         "dry goods pasta",
         "fresh pasta",
         "Afternoon",
         16121
        ],
        [
         "pets",
         "cat food care",
         "Evening",
         16043
        ],
        [
         "dairy eggs",
         "refrigerated pudding desserts",
         "Afternoon",
         15969
        ],
        [
         "household",
         "plates bowls cups flatware",
         "Morning",
         15928
        ],
        [
         "snacks",
         "nuts seeds dried fruit",
         "Night",
         15713
        ],
        [
         "bakery",
         "bakery desserts",
         "Afternoon",
         15664
        ],
        [
         "other",
         "other",
         "Afternoon",
         15562
        ],
        [
         "canned goods",
         "canned meat seafood",
         "Evening",
         15518
        ],
        [
         "deli",
         "prepared soups salads",
         "Evening",
         15455
        ],
        [
         "personal care",
         "oral hygiene",
         "Evening",
         15447
        ],
        [
         "snacks",
         "trail mix snack mix",
         "Morning",
         15372
        ],
        [
         "alcohol",
         "white wines",
         "Afternoon",
         15329
        ],
        [
         "personal care",
         "protein meal replacements",
         "Afternoon",
         15290
        ],
        [
         "beverages",
         "soft drinks",
         "Night",
         15152
        ],
        [
         "international",
         "latino foods",
         "Evening",
         15073
        ],
        [
         "meat seafood",
         "meat counter",
         "Evening",
         15063
        ],
        [
         "canned goods",
         "canned jarred vegetables",
         "Night",
         15044
        ],
        [
         "dairy eggs",
         "other creams cheeses",
         "Night",
         15034
        ],
        [
         "meat seafood",
         "hot dogs bacon sausage",
         "Night",
         15028
        ],
        [
         "meat seafood",
         "packaged meat",
         "Afternoon",
         15015
        ],
        [
         "pets",
         "dog food care",
         "Afternoon",
         14690
        ],
        [
         "snacks",
         "trail mix snack mix",
         "Afternoon",
         14673
        ],
        [
         "breakfast",
         "breakfast bars pastries",
         "Evening",
         14387
        ],
        [
         "personal care",
         "soap",
         "Evening",
         14344
        ],
        [
         "household",
         "food storage",
         "Evening",
         14307
        ],
        [
         "pantry",
         "honeys syrups nectars",
         "Evening",
         14231
        ],
        [
         "pantry",
         "spreads",
         "Night",
         14163
        ],
        [
         "personal care",
         "body lotions soap",
         "Morning",
         13779
        ],
        [
         "canned goods",
         "canned meals beans",
         "Night",
         13771
        ],
        [
         "personal care",
         "hair care",
         "Afternoon",
         13639
        ],
        [
         "dry goods pasta",
         "dry pasta",
         "Night",
         13638
        ],
        [
         "household",
         "trash bags liners",
         "Afternoon",
         13451
        ],
        [
         "alcohol",
         "spirits",
         "Afternoon",
         13395
        ],
        [
         "pantry",
         "oils vinegars",
         "Night",
         13385
        ],
        [
         "snacks",
         "candy chocolate",
         "Night",
         13371
        ],
        [
         "frozen",
         "frozen breads doughs",
         "Morning",
         13346
        ],
        [
         "meat seafood",
         "seafood counter",
         "Afternoon",
         13077
        ],
        [
         "dairy eggs",
         "cream",
         "Night",
         12969
        ],
        [
         "dairy eggs",
         "butter",
         "Night",
         12845
        ],
        [
         "pantry",
         "marinades meat preparation",
         "Evening",
         12839
        ],
        [
         "other",
         "other",
         "Morning",
         12253
        ],
        [
         "personal care",
         "protein meal replacements",
         "Morning",
         12217
        ],
        [
         "household",
         "paper goods",
         "Night",
         11988
        ],
        [
         "pantry",
         "condiments",
         "Night",
         11722
        ],
        [
         "household",
         "trash bags liners",
         "Morning",
         11668
        ],
        [
         "pantry",
         "spices seasonings",
         "Night",
         11619
        ],
        [
         "dairy eggs",
         "refrigerated pudding desserts",
         "Morning",
         11588
        ],
        [
         "meat seafood",
         "packaged meat",
         "Morning",
         11534
        ],
        [
         "dry goods pasta",
         "fresh pasta",
         "Morning",
         11517
        ],
        [
         "frozen",
         "frozen breakfast",
         "Night",
         11472
        ],
        [
         "pets",
         "dog food care",
         "Morning",
         11276
        ],
        [
         "personal care",
         "digestion",
         "Afternoon",
         11221
        ],
        [
         "bakery",
         "breakfast bakery",
         "Night",
         11216
        ],
        [
         "snacks",
         "cookies cakes",
         "Night",
         11012
        ],
        [
         "bakery",
         "bakery desserts",
         "Morning",
         10957
        ],
        [
         "beverages",
         "tea",
         "Night",
         10884
        ],
        [
         "dry goods pasta",
         "pasta sauce",
         "Night",
         10776
        ],
        [
         "personal care",
         "cold flu allergy",
         "Afternoon",
         10595
        ],
        [
         "personal care",
         "cold flu allergy",
         "Morning",
         10250
        ],
        [
         "personal care",
         "hair care",
         "Morning",
         10245
        ],
        [
         "personal care",
         "body lotions soap",
         "Evening",
         10237
        ],
        [
         "pantry",
         "baking supplies decor",
         "Afternoon",
         10199
        ],
        [
         "babies",
         "diapers wipes",
         "Afternoon",
         9798
        ],
        [
         "snacks",
         "mint gum",
         "Morning",
         9755
        ],
        [
         "dairy eggs",
         "refrigerated pudding desserts",
         "Evening",
         9728
        ],
        [
         "personal care",
         "vitamins supplements",
         "Evening",
         9657
        ],
        [
         "meat seafood",
         "seafood counter",
         "Morning",
         9607
        ],
        [
         "alcohol",
         "red wines",
         "Morning",
         9587
        ],
        [
         "frozen",
         "frozen appetizers sides",
         "Night",
         9429
        ],
        [
         "dry goods pasta",
         "instant foods",
         "Night",
         9417
        ],
        [
         "household",
         "plates bowls cups flatware",
         "Evening",
         9256
        ],
        [
         "personal care",
         "digestion",
         "Morning",
         9244
        ],
        [
         "snacks",
         "mint gum",
         "Afternoon",
         9189
        ],
        [
         "frozen",
         "frozen breads doughs",
         "Evening",
         9056
        ],
        [
         "beverages",
         "cocoa drink mixes",
         "Afternoon",
         9037
        ],
        [
         "international",
         "asian foods",
         "Night",
         9035
        ],
        [
         "bakery",
         "tortillas flat bread",
         "Night",
         8917
        ],
        [
         "alcohol",
         "white wines",
         "Morning",
         8879
        ],
        [
         "household",
         "air fresheners candles",
         "Afternoon",
         8851
        ],
        [
         "dry goods pasta",
         "fresh pasta",
         "Evening",
         8819
        ],
        [
         "personal care",
         "protein meal replacements",
         "Evening",
         8815
        ],
        [
         "alcohol",
         "red wines",
         "Evening",
         8764
        ],
        [
         "babies",
         "diapers wipes",
         "Morning",
         8753
        ],
        [
         "meat seafood",
         "packaged seafood",
         "Afternoon",
         8573
        ],
        [
         "pets",
         "dog food care",
         "Evening",
         8482
        ],
        [
         "frozen",
         "frozen dessert",
         "Afternoon",
         8452
        ],
        [
         "other",
         "other",
         "Evening",
         8447
        ],
        [
         "snacks",
         "fruit vegetable snacks",
         "Night",
         8408
        ],
        [
         "alcohol",
         "beers coolers",
         "Evening",
         8349
        ],
        [
         "personal care",
         "feminine care",
         "Afternoon",
         8277
        ],
        [
         "dry goods pasta",
         "grains rice dried goods",
         "Night",
         8151
        ],
        [
         "breakfast",
         "hot cereal pancake mixes",
         "Night",
         8114
        ],
        [
         "bakery",
         "bakery desserts",
         "Evening",
         8042
        ],
        [
         "beverages",
         "coffee",
         "Night",
         8005
        ],
        [
         "pantry",
         "baking supplies decor",
         "Morning",
         7994
        ],
        [
         "personal care",
         "hair care",
         "Evening",
         7974
        ],
        [
         "alcohol",
         "spirits",
         "Morning",
         7887
        ],
        [
         "personal care",
         "muscles joints pain relief",
         "Afternoon",
         7873
        ],
        [
         "deli",
         "tofu meat alternatives",
         "Night",
         7690
        ],
        [
         "household",
         "more household",
         "Afternoon",
         7523
        ],
        [
         "bulk",
         "bulk dried fruits vegetables",
         "Afternoon",
         7284
        ],
        [
         "meat seafood",
         "packaged meat",
         "Evening",
         7170
        ],
        [
         "frozen",
         "frozen pizza",
         "Night",
         7123
        ],
        [
         "household",
         "trash bags liners",
         "Evening",
         7079
        ],
        [
         "international",
         "indian foods",
         "Afternoon",
         7053
        ],
        [
         "beverages",
         "cocoa drink mixes",
         "Morning",
         7022
        ],
        [
         "meat seafood",
         "packaged seafood",
         "Morning",
         6996
        ],
        [
         "bulk",
         "bulk grains rice dried goods",
         "Afternoon",
         6979
        ],
        [
         "alcohol",
         "spirits",
         "Evening",
         6944
        ],
        [
         "snacks",
         "popcorn jerky",
         "Night",
         6844
        ],
        [
         "personal care",
         "feminine care",
         "Morning",
         6843
        ],
        [
         "alcohol",
         "white wines",
         "Evening",
         6715
        ],
        [
         "household",
         "air fresheners candles",
         "Morning",
         6701
        ],
        [
         "personal care",
         "muscles joints pain relief",
         "Morning",
         6585
        ],
        [
         "meat seafood",
         "seafood counter",
         "Evening",
         6416
        ],
        [
         "bulk",
         "bulk dried fruits vegetables",
         "Morning",
         6405
        ],
        [
         "personal care",
         "deodorants",
         "Afternoon",
         6358
        ],
        [
         "household",
         "more household",
         "Morning",
         6254
        ],
        [
         "personal care",
         "digestion",
         "Evening",
         6149
        ],
        [
         "babies",
         "diapers wipes",
         "Evening",
         5981
        ],
        [
         "meat seafood",
         "poultry counter",
         "Night",
         5964
        ],
        [
         "bulk",
         "bulk grains rice dried goods",
         "Morning",
         5911
        ],
        [
         "household",
         "cleaning products",
         "Night",
         5903
        ],
        [
         "pantry",
         "pickled goods olives",
         "Night",
         5886
        ],
        [
         "frozen",
         "frozen dessert",
         "Morning",
         5857
        ],
        [
         "snacks",
         "trail mix snack mix",
         "Evening",
         5737
        ],
        [
         "personal care",
         "cold flu allergy",
         "Evening",
         5514
        ],
        [
         "frozen",
         "frozen vegan vegetarian",
         "Night",
         5504
        ],
        [
         "meat seafood",
         "packaged poultry",
         "Night",
         5465
        ],
        [
         "bakery",
         "buns rolls",
         "Night",
         5423
        ],
        [
         "alcohol",
         "specialty wines champagnes",
         "Afternoon",
         5304
        ],
        [
         "pantry",
         "baking supplies decor",
         "Evening",
         5243
        ],
        [
         "pantry",
         "doughs gelatins bake mixes",
         "Night",
         5154
        ],
        [
         "pantry",
         "preserved dips spreads",
         "Night",
         5146
        ],
        [
         "beverages",
         "cocoa drink mixes",
         "Evening",
         5140
        ],
        [
         "personal care",
         "facial care",
         "Afternoon",
         5048
        ],
        [
         "meat seafood",
         "packaged seafood",
         "Evening",
         5004
        ],
        [
         "snacks",
         "ice cream toppings",
         "Afternoon",
         4982
        ],
        [
         "pantry",
         "salad dressing toppings",
         "Night",
         4934
        ],
        [
         "international",
         "indian foods",
         "Morning",
         4912
        ],
        [
         "frozen",
         "frozen dessert",
         "Evening",
         4855
        ],
        [
         "personal care",
         "feminine care",
         "Evening",
         4754
        ],
        [
         "personal care",
         "deodorants",
         "Morning",
         4746
        ],
        [
         "canned goods",
         "canned fruit applesauce",
         "Night",
         4713
        ],
        [
         "international",
         "kosher foods",
         "Afternoon",
         4674
        ],
        [
         "household",
         "dish detergents",
         "Night",
         4662
        ],
        [
         "breakfast",
         "granola",
         "Night",
         4631
        ],
        [
         "personal care",
         "first aid",
         "Afternoon",
         4483
        ],
        [
         "household",
         "laundry",
         "Night",
         4465
        ],
        [
         "personal care",
         "skin care",
         "Afternoon",
         4446
        ],
        [
         "household",
         "air fresheners candles",
         "Evening",
         4401
        ],
        [
         "personal care",
         "shave needs",
         "Afternoon",
         4351
        ],
        [
         "deli",
         "prepared meals",
         "Night",
         4340
        ],
        [
         "dairy eggs",
         "specialty cheeses",
         "Night",
         4312
        ],
        [
         "personal care",
         "muscles joints pain relief",
         "Evening",
         4261
        ],
        [
         "beverages",
         "energy sports drinks",
         "Night",
         4207
        ],
        [
         "missing",
         "missing",
         "Night",
         4111
        ],
        [
         "international",
         "kosher foods",
         "Morning",
         4097
        ],
        [
         "personal care",
         "facial care",
         "Morning",
         4015
        ],
        [
         "bulk",
         "bulk grains rice dried goods",
         "Evening",
         4009
        ],
        [
         "household",
         "kitchen supplies",
         "Afternoon",
         3934
        ],
        [
         "frozen",
         "frozen meat seafood",
         "Night",
         3869
        ],
        [
         "canned goods",
         "canned meat seafood",
         "Night",
         3861
        ],
        [
         "personal care",
         "deodorants",
         "Evening",
         3853
        ],
        [
         "snacks",
         "mint gum",
         "Evening",
         3828
        ],
        [
         "household",
         "more household",
         "Evening",
         3818
        ],
        [
         "international",
         "indian foods",
         "Evening",
         3800
        ],
        [
         "personal care",
         "eye ear care",
         "Afternoon",
         3649
        ],
        [
         "personal care",
         "first aid",
         "Morning",
         3645
        ],
        [
         "meat seafood",
         "meat counter",
         "Night",
         3542
        ],
        [
         "bulk",
         "bulk dried fruits vegetables",
         "Evening",
         3505
        ],
        [
         "personal care",
         "oral hygiene",
         "Night",
         3477
        ],
        [
         "pantry",
         "honeys syrups nectars",
         "Night",
         3473
        ],
        [
         "international",
         "latino foods",
         "Night",
         3448
        ],
        [
         "personal care",
         "soap",
         "Night",
         3428
        ],
        [
         "alcohol",
         "specialty wines champagnes",
         "Morning",
         3407
        ],
        [
         "household",
         "food storage",
         "Night",
         3386
        ],
        [
         "personal care",
         "shave needs",
         "Morning",
         3380
        ],
        [
         "snacks",
         "ice cream toppings",
         "Morning",
         3366
        ],
        [
         "personal care",
         "skin care",
         "Morning",
         3347
        ],
        [
         "babies",
         "baby bath body care",
         "Afternoon",
         3323
        ],
        [
         "babies",
         "baby accessories",
         "Afternoon",
         3280
        ],
        [
         "deli",
         "prepared soups salads",
         "Night",
         3256
        ],
        [
         "personal care",
         "facial care",
         "Evening",
         3211
        ],
        [
         "household",
         "kitchen supplies",
         "Morning",
         3099
        ],
        [
         "pantry",
         "marinades meat preparation",
         "Night",
         3079
        ],
        [
         "pets",
         "cat food care",
         "Night",
         3057
        ],
        [
         "personal care",
         "eye ear care",
         "Morning",
         3050
        ],
        [
         "babies",
         "baby bath body care",
         "Morning",
         3046
        ],
        [
         "babies",
         "baby accessories",
         "Morning",
         2983
        ],
        [
         "breakfast",
         "breakfast bars pastries",
         "Night",
         2976
        ],
        [
         "snacks",
         "ice cream toppings",
         "Evening",
         2842
        ],
        [
         "international",
         "kosher foods",
         "Evening",
         2789
        ],
        [
         "personal care",
         "shave needs",
         "Evening",
         2705
        ],
        [
         "personal care",
         "first aid",
         "Evening",
         2680
        ],
        [
         "alcohol",
         "specialty wines champagnes",
         "Evening",
         2579
        ],
        [
         "personal care",
         "beauty",
         "Afternoon",
         2524
        ],
        [
         "personal care",
         "vitamins supplements",
         "Night",
         2494
        ],
        [
         "personal care",
         "eye ear care",
         "Evening",
         2353
        ],
        [
         "personal care",
         "skin care",
         "Evening",
         2293
        ],
        [
         "household",
         "plates bowls cups flatware",
         "Night",
         2292
        ],
        [
         "frozen",
         "frozen juice",
         "Afternoon",
         2163
        ],
        [
         "dairy eggs",
         "refrigerated pudding desserts",
         "Night",
         2135
        ],
        [
         "personal care",
         "body lotions soap",
         "Night",
         2062
        ],
        [
         "frozen",
         "frozen breads doughs",
         "Night",
         2025
        ],
        [
         "household",
         "kitchen supplies",
         "Evening",
         2023
        ],
        [
         "personal care",
         "beauty",
         "Morning",
         1992
        ],
        [
         "babies",
         "baby bath body care",
         "Evening",
         1987
        ],
        [
         "dry goods pasta",
         "fresh pasta",
         "Night",
         1898
        ],
        [
         "personal care",
         "protein meal replacements",
         "Night",
         1889
        ],
        [
         "other",
         "other",
         "Night",
         1824
        ],
        [
         "babies",
         "baby accessories",
         "Evening",
         1769
        ],
        [
         "bakery",
         "bakery desserts",
         "Night",
         1709
        ],
        [
         "meat seafood",
         "packaged meat",
         "Night",
         1672
        ],
        [
         "meat seafood",
         "seafood counter",
         "Night",
         1626
        ],
        [
         "personal care",
         "hair care",
         "Night",
         1624
        ],
        [
         "frozen",
         "frozen juice",
         "Morning",
         1596
        ],
        [
         "personal care",
         "beauty",
         "Evening",
         1552
        ],
        [
         "household",
         "trash bags liners",
         "Night",
         1504
        ],
        [
         "pets",
         "dog food care",
         "Night",
         1467
        ],
        [
         "personal care",
         "digestion",
         "Night",
         1464
        ],
        [
         "pantry",
         "baking supplies decor",
         "Night",
         1350
        ],
        [
         "snacks",
         "trail mix snack mix",
         "Night",
         1271
        ],
        [
         "meat seafood",
         "packaged seafood",
         "Night",
         1267
        ],
        [
         "babies",
         "diapers wipes",
         "Night",
         1182
        ],
        [
         "frozen",
         "frozen juice",
         "Evening",
         1164
        ],
        [
         "alcohol",
         "beers coolers",
         "Night",
         1132
        ],
        [
         "beverages",
         "cocoa drink mixes",
         "Night",
         1077
        ],
        [
         "frozen",
         "frozen dessert",
         "Night",
         1077
        ],
        [
         "personal care",
         "cold flu allergy",
         "Night",
         1048
        ],
        [
         "household",
         "air fresheners candles",
         "Night",
         965
        ],
        [
         "bulk",
         "bulk grains rice dried goods",
         "Night",
         940
        ],
        [
         "personal care",
         "feminine care",
         "Night",
         927
        ],
        [
         "bulk",
         "bulk dried fruits vegetables",
         "Night",
         899
        ],
        [
         "alcohol",
         "red wines",
         "Night",
         866
        ],
        [
         "international",
         "kosher foods",
         "Night",
         866
        ],
        [
         "personal care",
         "muscles joints pain relief",
         "Night",
         861
        ],
        [
         "international",
         "indian foods",
         "Night",
         855
        ],
        [
         "snacks",
         "mint gum",
         "Night",
         854
        ],
        [
         "alcohol",
         "spirits",
         "Night",
         843
        ],
        [
         "household",
         "more household",
         "Night",
         807
        ],
        [
         "alcohol",
         "white wines",
         "Night",
         723
        ],
        [
         "personal care",
         "deodorants",
         "Night",
         716
        ],
        [
         "personal care",
         "facial care",
         "Night",
         641
        ],
        [
         "personal care",
         "skin care",
         "Night",
         612
        ],
        [
         "personal care",
         "first aid",
         "Night",
         603
        ],
        [
         "household",
         "kitchen supplies",
         "Night",
         564
        ],
        [
         "babies",
         "baby bath body care",
         "Night",
         553
        ],
        [
         "snacks",
         "ice cream toppings",
         "Night",
         516
        ],
        [
         "personal care",
         "eye ear care",
         "Night",
         470
        ],
        [
         "personal care",
         "shave needs",
         "Night",
         440
        ],
        [
         "babies",
         "baby accessories",
         "Night",
         434
        ],
        [
         "personal care",
         "beauty",
         "Night",
         387
        ],
        [
         "alcohol",
         "specialty wines champagnes",
         "Night",
         369
        ],
        [
         "frozen",
         "frozen juice",
         "Night",
         224
        ]
       ],
       "datasetInfos": [],
       "dbfsResultPath": null,
       "isJsonSchema": true,
       "metadata": {},
       "overflow": false,
       "plotOptions": {
        "customPlotOptions": {},
        "displayType": "table",
        "pivotAggregation": null,
        "pivotColumns": null,
        "xColumns": null,
        "yColumns": null
       },
       "removedWidgets": [],
       "schema": [
        {
         "metadata": "{}",
         "name": "department",
         "type": "\"string\""
        },
        {
         "metadata": "{}",
         "name": "aisle",
         "type": "\"string\""
        },
        {
         "metadata": "{}",
         "name": "time_of_day",
         "type": "\"string\""
        },
        {
         "metadata": "{}",
         "name": "order_count",
         "type": "\"long\""
        }
       ],
       "type": "table"
      }
     },
     "output_type": "display_data"
    }
   ],
   "source": [
    "%sql\n",
    "-- 3. Department and Aisle Analysis\n",
    "-- Popular departments and aisles by time of day\n",
    "SELECT \n",
    "  d.department,\n",
    "  a.aisle,\n",
    "  CASE \n",
    "    WHEN o.order_hour_of_day BETWEEN 5 AND 11 THEN 'Morning'\n",
    "    WHEN o.order_hour_of_day BETWEEN 12 AND 16 THEN 'Afternoon'\n",
    "    WHEN o.order_hour_of_day BETWEEN 17 AND 21 THEN 'Evening'\n",
    "    ELSE 'Night'\n",
    "  END as time_of_day,\n",
    "  COUNT(*) as order_count\n",
    "FROM all_order_products op\n",
    "JOIN instacart.orders o ON op.order_id = o.order_id\n",
    "JOIN instacart.products p ON op.product_id = p.product_id\n",
    "JOIN instacart.aisles a ON p.aisle_id = a.aisle_id\n",
    "JOIN instacart.departments d ON p.department_id = d.department_id\n",
    "GROUP BY d.department, a.aisle, time_of_day\n",
    "ORDER BY order_count DESC;\n"
   ]
  }
 ],
 "metadata": {
  "application/vnd.databricks.v1+notebook": {
   "computePreferences": null,
   "dashboards": [],
   "environmentMetadata": {
    "base_environment": "",
    "environment_version": "2"
   },
   "inputWidgetPreferences": null,
   "language": "python",
   "notebookMetadata": {
    "mostRecentlyExecutedCommandWithImplicitDF": {
     "commandId": 8566369573540557,
     "dataframes": [
      "_sqldf"
     ]
    },
    "pythonIndentUnit": 4
   },
   "notebookName": "advanced_analytics",
   "widgets": {}
  },
  "language_info": {
   "name": "python"
  }
 },
 "nbformat": 4,
 "nbformat_minor": 0
}