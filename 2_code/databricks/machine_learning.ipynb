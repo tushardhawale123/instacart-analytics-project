{
 "cells": [
  {
   "cell_type": "markdown",
   "metadata": {
    "application/vnd.databricks.v1+cell": {
     "cellMetadata": {
      "byteLimit": 2048000,
      "rowLimit": 10000
     },
     "inputWidgets": {},
     "nuid": "454cafaa-43b9-448f-a0af-1f6290afbc10",
     "showTitle": false,
     "tableResultSettingsMap": {},
     "title": ""
    }
   },
   "source": [
    "# Instacart Machine Learning Models\n",
    "# This notebook builds ML models to predict product reorders."
   ]
  },
  {
   "cell_type": "code",
   "execution_count": 0,
   "metadata": {
    "application/vnd.databricks.v1+cell": {
     "cellMetadata": {
      "byteLimit": 2048000,
      "rowLimit": 10000
     },
     "inputWidgets": {},
     "nuid": "89c6aeab-3804-43fc-ba63-28b6cbaf8ff9",
     "showTitle": false,
     "tableResultSettingsMap": {},
     "title": ""
    }
   },
   "outputs": [
    {
     "output_type": "display_data",
     "data": {
      "text/html": [
       "<style scoped>\n",
       "  .ansiout {\n",
       "    display: block;\n",
       "    unicode-bidi: embed;\n",
       "    white-space: pre-wrap;\n",
       "    word-wrap: break-word;\n",
       "    word-break: break-all;\n",
       "    font-family: \"Menlo\", \"Monaco\", \"Consolas\", \"Ubuntu Mono\", \"Source Code Pro\", monospace;\n",
       "    font-size: 13px;\n",
       "    color: #555;\n",
       "    margin-left: 4px;\n",
       "    line-height: 19px;\n",
       "  }\n",
       "</style>\n",
       "<div class=\"ansiout\"></div>"
      ]
     },
     "metadata": {
      "application/vnd.databricks.v1+output": {
       "addedWidgets": {},
       "arguments": {},
       "data": "<div class=\"ansiout\"></div>",
       "datasetInfos": [],
       "metadata": {},
       "removedWidgets": [],
       "type": "html"
      }
     },
     "output_type": "display_data"
    }
   ],
   "source": [
    "from pyspark.ml.feature import VectorAssembler, OneHotEncoder, StringIndexer\n",
    "from pyspark.ml.classification import LogisticRegression, RandomForestClassifier\n",
    "from pyspark.ml.evaluation import BinaryClassificationEvaluator\n",
    "from pyspark.ml import Pipeline\n",
    "from pyspark.sql.functions import col, count, sum, avg, stddev, min, max\n"
   ]
  },
  {
   "cell_type": "code",
   "execution_count": 0,
   "metadata": {
    "application/vnd.databricks.v1+cell": {
     "cellMetadata": {
      "byteLimit": 2048000,
      "rowLimit": 10000
     },
     "inputWidgets": {},
     "nuid": "7264ba29-c2f8-4551-b9a4-fa82e8711d40",
     "showTitle": false,
     "tableResultSettingsMap": {},
     "title": ""
    }
   },
   "outputs": [
    {
     "output_type": "display_data",
     "data": {
      "text/html": [
       "<style scoped>\n",
       "  .ansiout {\n",
       "    display: block;\n",
       "    unicode-bidi: embed;\n",
       "    white-space: pre-wrap;\n",
       "    word-wrap: break-word;\n",
       "    word-break: break-all;\n",
       "    font-family: \"Menlo\", \"Monaco\", \"Consolas\", \"Ubuntu Mono\", \"Source Code Pro\", monospace;\n",
       "    font-size: 13px;\n",
       "    color: #555;\n",
       "    margin-left: 4px;\n",
       "    line-height: 19px;\n",
       "  }\n",
       "</style>\n",
       "<div class=\"ansiout\"></div>"
      ]
     },
     "metadata": {
      "application/vnd.databricks.v1+output": {
       "addedWidgets": {},
       "arguments": {},
       "data": "<div class=\"ansiout\"></div>",
       "datasetInfos": [],
       "metadata": {},
       "removedWidgets": [],
       "type": "html"
      }
     },
     "output_type": "display_data"
    }
   ],
   "source": [
    "# Prepare training data\n",
    "train_data = spark.sql(\"\"\"\n",
    "  SELECT \n",
    "    op.order_id,\n",
    "    op.product_id,\n",
    "    op.add_to_cart_order,\n",
    "    op.reordered,\n",
    "    o.user_id,\n",
    "    o.order_dow,\n",
    "    o.order_hour_of_day,\n",
    "    o.days_since_prior_order,\n",
    "    p.aisle_id,\n",
    "    p.department_id,\n",
    "    -- Add user-based features\n",
    "    up.user_total_orders,\n",
    "    up.user_avg_days_between_orders,\n",
    "    -- Add product-based features\n",
    "    pp.product_reorder_rate,\n",
    "    pp.product_order_count\n",
    "  FROM instacart.order_products_train op\n",
    "  JOIN instacart.orders o ON op.order_id = o.order_id\n",
    "  JOIN instacart.products p ON op.product_id = p.product_id\n",
    "  -- Join with pre-calculated user stats\n",
    "  JOIN (\n",
    "    SELECT \n",
    "      user_id,\n",
    "      COUNT(DISTINCT order_id) as user_total_orders,\n",
    "      AVG(days_since_prior_order) as user_avg_days_between_orders\n",
    "    FROM instacart.orders\n",
    "    GROUP BY user_id\n",
    "  ) up ON o.user_id = up.user_id\n",
    "  -- Join with pre-calculated product stats\n",
    "  JOIN (\n",
    "    SELECT\n",
    "      product_id,\n",
    "      SUM(CAST(reordered as INT)) / COUNT(*) as product_reorder_rate,\n",
    "      COUNT(*) as product_order_count\n",
    "    FROM instacart.order_products_prior\n",
    "    GROUP BY product_id\n",
    "  ) pp ON op.product_id = pp.product_id\n",
    "\"\"\")\n"
   ]
  },
  {
   "cell_type": "code",
   "execution_count": 0,
   "metadata": {
    "application/vnd.databricks.v1+cell": {
     "cellMetadata": {
      "byteLimit": 2048000,
      "rowLimit": 10000
     },
     "inputWidgets": {},
     "nuid": "e167799f-37ce-4108-b375-29c5fb8df8dc",
     "showTitle": false,
     "tableResultSettingsMap": {},
     "title": ""
    }
   },
   "outputs": [
    {
     "output_type": "display_data",
     "data": {
      "text/html": [
       "<style scoped>\n",
       "  .ansiout {\n",
       "    display: block;\n",
       "    unicode-bidi: embed;\n",
       "    white-space: pre-wrap;\n",
       "    word-wrap: break-word;\n",
       "    word-break: break-all;\n",
       "    font-family: \"Menlo\", \"Monaco\", \"Consolas\", \"Ubuntu Mono\", \"Source Code Pro\", monospace;\n",
       "    font-size: 13px;\n",
       "    color: #555;\n",
       "    margin-left: 4px;\n",
       "    line-height: 19px;\n",
       "  }\n",
       "</style>\n",
       "<div class=\"ansiout\">+-------+------------------+------------------+-----------------+------------------+------------------+-----------------+------------------+----------------------+-----------------+-----------------+------------------+----------------------------+--------------------+-------------------+\n",
       "summary|          order_id|        product_id|add_to_cart_order|         reordered|           user_id|        order_dow| order_hour_of_day|days_since_prior_order|         aisle_id|    department_id| user_total_orders|user_avg_days_between_orders|product_reorder_rate|product_order_count|\n",
       "+-------+------------------+------------------+-----------------+------------------+------------------+-----------------+------------------+----------------------+-----------------+-----------------+------------------+----------------------------+--------------------+-------------------+\n",
       "  count|           1384608|           1384608|          1384608|           1384608|           1384608|          1384608|           1384608|               1384608|          1384608|          1384608|           1384608|                     1384608|             1384608|            1384608|\n",
       "   mean|1706294.5879201912|  25556.1871482759| 8.75802032055282|0.5985983036353971|103112.80007771152|2.701386962952691|13.577586580461762|     17.06615663061314|71.30419584460006|9.839725756315145|17.091412154198157|          13.371078257934213|  0.5789612676288105| 34345.384440217014|\n",
       " stddev| 989733.3205064402|14121.265456695077|7.423914934289983|0.4901821580348021| 59487.09192379809|2.167645820946835| 4.238455644549526|    10.426420138389979|38.10413801874703| 6.29280868579242|16.614069212739533|           5.415246798393677|  0.1533254128555284|  77656.18902957812|\n",
       "    min|                 1|                 1|                1|                 0|                 1|                0|                 0|                   0.0|                1|                1|                 4|                         0.0|                 0.0|                  1|\n",
       "    max|           3421070|             49688|               80|                 1|            206209|                6|                23|                  30.0|               99|                9|               100|                        27.0|  0.9411764705882353|             472565|\n",
       "+-------+------------------+------------------+-----------------+------------------+------------------+-----------------+------------------+----------------------+-----------------+-----------------+------------------+----------------------------+--------------------+-------------------+\n",
       "\n",
       "+---------+------+\n",
       "reordered| count|\n",
       "+---------+------+\n",
       "        1|828824|\n",
       "        0|555784|\n",
       "+---------+------+\n",
       "\n",
       "</div>"
      ]
     },
     "metadata": {
      "application/vnd.databricks.v1+output": {
       "addedWidgets": {},
       "arguments": {},
       "data": "<div class=\"ansiout\">+-------+------------------+------------------+-----------------+------------------+------------------+-----------------+------------------+----------------------+-----------------+-----------------+------------------+----------------------------+--------------------+-------------------+\n|summary|          order_id|        product_id|add_to_cart_order|         reordered|           user_id|        order_dow| order_hour_of_day|days_since_prior_order|         aisle_id|    department_id| user_total_orders|user_avg_days_between_orders|product_reorder_rate|product_order_count|\n+-------+------------------+------------------+-----------------+------------------+------------------+-----------------+------------------+----------------------+-----------------+-----------------+------------------+----------------------------+--------------------+-------------------+\n|  count|           1384608|           1384608|          1384608|           1384608|           1384608|          1384608|           1384608|               1384608|          1384608|          1384608|           1384608|                     1384608|             1384608|            1384608|\n|   mean|1706294.5879201912|  25556.1871482759| 8.75802032055282|0.5985983036353971|103112.80007771152|2.701386962952691|13.577586580461762|     17.06615663061314|71.30419584460006|9.839725756315145|17.091412154198157|          13.371078257934213|  0.5789612676288105| 34345.384440217014|\n| stddev| 989733.3205064402|14121.265456695077|7.423914934289983|0.4901821580348021| 59487.09192379809|2.167645820946835| 4.238455644549526|    10.426420138389979|38.10413801874703| 6.29280868579242|16.614069212739533|           5.415246798393677|  0.1533254128555284|  77656.18902957812|\n|    min|                 1|                 1|                1|                 0|                 1|                0|                 0|                   0.0|                1|                1|                 4|                         0.0|                 0.0|                  1|\n|    max|           3421070|             49688|               80|                 1|            206209|                6|                23|                  30.0|               99|                9|               100|                        27.0|  0.9411764705882353|             472565|\n+-------+------------------+------------------+-----------------+------------------+------------------+-----------------+------------------+----------------------+-----------------+-----------------+------------------+----------------------------+--------------------+-------------------+\n\n+---------+------+\n|reordered| count|\n+---------+------+\n|        1|828824|\n|        0|555784|\n+---------+------+\n\n</div>",
       "datasetInfos": [],
       "metadata": {},
       "removedWidgets": [],
       "type": "html"
      }
     },
     "output_type": "display_data"
    }
   ],
   "source": [
    "# Explore the dataset\n",
    "train_data.describe().show()\n",
    "\n",
    "# Check class imbalance\n",
    "train_data.groupBy(\"reordered\").count().show()\n"
   ]
  },
  {
   "cell_type": "code",
   "execution_count": 0,
   "metadata": {
    "application/vnd.databricks.v1+cell": {
     "cellMetadata": {
      "byteLimit": 2048000,
      "rowLimit": 10000
     },
     "inputWidgets": {},
     "nuid": "2ed93626-c552-448c-b3e2-d7bd3762b3d8",
     "showTitle": false,
     "tableResultSettingsMap": {},
     "title": ""
    }
   },
   "outputs": [
    {
     "output_type": "display_data",
     "data": {
      "text/html": [
       "<style scoped>\n",
       "  .ansiout {\n",
       "    display: block;\n",
       "    unicode-bidi: embed;\n",
       "    white-space: pre-wrap;\n",
       "    word-wrap: break-word;\n",
       "    word-break: break-all;\n",
       "    font-family: \"Menlo\", \"Monaco\", \"Consolas\", \"Ubuntu Mono\", \"Source Code Pro\", monospace;\n",
       "    font-size: 13px;\n",
       "    color: #555;\n",
       "    margin-left: 4px;\n",
       "    line-height: 19px;\n",
       "  }\n",
       "</style>\n",
       "<div class=\"ansiout\"></div>"
      ]
     },
     "metadata": {
      "application/vnd.databricks.v1+output": {
       "addedWidgets": {},
       "arguments": {},
       "data": "<div class=\"ansiout\"></div>",
       "datasetInfos": [],
       "metadata": {},
       "removedWidgets": [],
       "type": "html"
      }
     },
     "output_type": "display_data"
    }
   ],
   "source": [
    "# Prepare feature columns\n",
    "cat_cols = [\"order_dow\", \"aisle_id\", \"department_id\"]\n",
    "num_cols = [\"add_to_cart_order\", \"order_hour_of_day\", \"days_since_prior_order\", \n",
    "            \"user_total_orders\", \"user_avg_days_between_orders\",\n",
    "            \"product_reorder_rate\", \"product_order_count\"]\n",
    "\n",
    "# Create a pipeline for preprocessing\n",
    "indexers = [StringIndexer(inputCol=col, outputCol=col+\"_idx\").fit(train_data) for col in cat_cols]\n",
    "encoders = [OneHotEncoder(inputCol=col+\"_idx\", outputCol=col+\"_enc\") for col in cat_cols]\n",
    "\n",
    "# Get encoded column names\n",
    "encoded_cols = [col+\"_enc\" for col in cat_cols]\n",
    "feature_cols = num_cols + encoded_cols\n",
    "\n",
    "# Create the assembler\n",
    "assembler = VectorAssembler(inputCols=feature_cols, outputCol=\"features\")\n"
   ]
  },
  {
   "cell_type": "code",
   "execution_count": 0,
   "metadata": {
    "application/vnd.databricks.v1+cell": {
     "cellMetadata": {
      "byteLimit": 2048000,
      "rowLimit": 10000
     },
     "inputWidgets": {},
     "nuid": "6544ae02-930e-4ec4-b29b-51d82e3a8a77",
     "showTitle": false,
     "tableResultSettingsMap": {},
     "title": ""
    }
   },
   "outputs": [
    {
     "output_type": "display_data",
     "data": {
      "text/html": [
       "<style scoped>\n",
       "  .ansiout {\n",
       "    display: block;\n",
       "    unicode-bidi: embed;\n",
       "    white-space: pre-wrap;\n",
       "    word-wrap: break-word;\n",
       "    word-break: break-all;\n",
       "    font-family: \"Menlo\", \"Monaco\", \"Consolas\", \"Ubuntu Mono\", \"Source Code Pro\", monospace;\n",
       "    font-size: 13px;\n",
       "    color: #555;\n",
       "    margin-left: 4px;\n",
       "    line-height: 19px;\n",
       "  }\n",
       "</style>\n",
       "<div class=\"ansiout\"></div>"
      ]
     },
     "metadata": {
      "application/vnd.databricks.v1+output": {
       "addedWidgets": {},
       "arguments": {},
       "data": "<div class=\"ansiout\"></div>",
       "datasetInfos": [],
       "metadata": {},
       "removedWidgets": [],
       "type": "html"
      }
     },
     "output_type": "display_data"
    }
   ],
   "source": [
    "# Split the data\n",
    "train, test = train_data.randomSplit([0.8, 0.2], seed=42)\n"
   ]
  },
  {
   "cell_type": "code",
   "execution_count": 0,
   "metadata": {
    "application/vnd.databricks.v1+cell": {
     "cellMetadata": {
      "byteLimit": 2048000,
      "rowLimit": 10000
     },
     "inputWidgets": {},
     "nuid": "c4f0b094-4f80-4ac1-a970-f1b1a6bc3aff",
     "showTitle": false,
     "tableResultSettingsMap": {},
     "title": ""
    }
   },
   "outputs": [
    {
     "output_type": "display_data",
     "data": {
      "text/html": [
       "<style scoped>\n",
       "  .ansiout {\n",
       "    display: block;\n",
       "    unicode-bidi: embed;\n",
       "    white-space: pre-wrap;\n",
       "    word-wrap: break-word;\n",
       "    word-break: break-all;\n",
       "    font-family: \"Menlo\", \"Monaco\", \"Consolas\", \"Ubuntu Mono\", \"Source Code Pro\", monospace;\n",
       "    font-size: 13px;\n",
       "    color: #555;\n",
       "    margin-left: 4px;\n",
       "    line-height: 19px;\n",
       "  }\n",
       "</style>\n",
       "<div class=\"ansiout\">Random Forest AUC: 0.7196191562661399\n",
       "</div>"
      ]
     },
     "metadata": {
      "application/vnd.databricks.v1+output": {
       "addedWidgets": {},
       "arguments": {},
       "data": "<div class=\"ansiout\">Random Forest AUC: 0.7196191562661399\n</div>",
       "datasetInfos": [],
       "metadata": {},
       "removedWidgets": [],
       "type": "html"
      }
     },
     "output_type": "display_data"
    }
   ],
   "source": [
    "# Create and train Random Forest model\n",
    "rf_pipeline = Pipeline(stages=indexers + encoders + [assembler, \n",
    "                                                     RandomForestClassifier(labelCol=\"reordered\", \n",
    "                                                                            featuresCol=\"features\",\n",
    "                                                                            numTrees=100)])\n",
    "rf_model = rf_pipeline.fit(train)\n",
    "\n",
    "# Make predictions\n",
    "rf_predictions = rf_model.transform(test)\n",
    "\n",
    "# Evaluate model\n",
    "evaluator = BinaryClassificationEvaluator(labelCol=\"reordered\")\n",
    "rf_auc = evaluator.evaluate(rf_predictions)\n",
    "print(f\"Random Forest AUC: {rf_auc}\")\n"
   ]
  },
  {
   "cell_type": "code",
   "execution_count": 0,
   "metadata": {
    "application/vnd.databricks.v1+cell": {
     "cellMetadata": {
      "byteLimit": 2048000,
      "rowLimit": 10000
     },
     "inputWidgets": {},
     "nuid": "d14eb008-72e7-4316-8314-68b24bff23fb",
     "showTitle": false,
     "tableResultSettingsMap": {},
     "title": ""
    }
   },
   "outputs": [
    {
     "output_type": "display_data",
     "data": {
      "text/html": [
       "<style scoped>\n",
       "  .ansiout {\n",
       "    display: block;\n",
       "    unicode-bidi: embed;\n",
       "    white-space: pre-wrap;\n",
       "    word-wrap: break-word;\n",
       "    word-break: break-all;\n",
       "    font-family: \"Menlo\", \"Monaco\", \"Consolas\", \"Ubuntu Mono\", \"Source Code Pro\", monospace;\n",
       "    font-size: 13px;\n",
       "    color: #555;\n",
       "    margin-left: 4px;\n",
       "    line-height: 19px;\n",
       "  }\n",
       "</style>\n",
       "<div class=\"ansiout\">Logistic Regression AUC: 0.7334881438781733\n",
       "</div>"
      ]
     },
     "metadata": {
      "application/vnd.databricks.v1+output": {
       "addedWidgets": {},
       "arguments": {},
       "data": "<div class=\"ansiout\">Logistic Regression AUC: 0.7334881438781733\n</div>",
       "datasetInfos": [],
       "metadata": {},
       "removedWidgets": [],
       "type": "html"
      }
     },
     "output_type": "display_data"
    }
   ],
   "source": [
    "# Create and train Logistic Regression model\n",
    "lr_pipeline = Pipeline(stages=indexers + encoders + [assembler, \n",
    "                                                     LogisticRegression(labelCol=\"reordered\", \n",
    "                                                                       featuresCol=\"features\")])\n",
    "lr_model = lr_pipeline.fit(train)\n",
    "\n",
    "# Make predictions\n",
    "lr_predictions = lr_model.transform(test)\n",
    "\n",
    "# Evaluate model\n",
    "lr_auc = evaluator.evaluate(lr_predictions)\n",
    "print(f\"Logistic Regression AUC: {lr_auc}\")\n"
   ]
  },
  {
   "cell_type": "code",
   "execution_count": 0,
   "metadata": {
    "application/vnd.databricks.v1+cell": {
     "cellMetadata": {
      "byteLimit": 2048000,
      "rowLimit": 10000
     },
     "inputWidgets": {},
     "nuid": "97f1bf81-7d11-414a-b583-a48856febb64",
     "showTitle": false,
     "tableResultSettingsMap": {},
     "title": ""
    }
   },
   "outputs": [
    {
     "output_type": "display_data",
     "data": {
      "text/html": [
       "<style scoped>\n",
       "  .ansiout {\n",
       "    display: block;\n",
       "    unicode-bidi: embed;\n",
       "    white-space: pre-wrap;\n",
       "    word-wrap: break-word;\n",
       "    word-break: break-all;\n",
       "    font-family: \"Menlo\", \"Monaco\", \"Consolas\", \"Ubuntu Mono\", \"Source Code Pro\", monospace;\n",
       "    font-size: 13px;\n",
       "    color: #555;\n",
       "    margin-left: 4px;\n",
       "    line-height: 19px;\n",
       "  }\n",
       "</style>\n",
       "<div class=\"ansiout\">Logistic Regression model saved to /models/product_reorder_prediction\n",
       "</div>"
      ]
     },
     "metadata": {
      "application/vnd.databricks.v1+output": {
       "addedWidgets": {},
       "arguments": {},
       "data": "<div class=\"ansiout\">Logistic Regression model saved to /models/product_reorder_prediction\n</div>",
       "datasetInfos": [],
       "metadata": {},
       "removedWidgets": [],
       "type": "html"
      }
     },
     "output_type": "display_data"
    }
   ],
   "source": [
    "# Save the best model\n",
    "best_model_path = \"/models/product_reorder_prediction\"\n",
    "if rf_auc > lr_auc:\n",
    "    rf_model.write().overwrite().save(best_model_path)\n",
    "    print(f\"Random Forest model saved to {best_model_path}\")\n",
    "else:\n",
    "    lr_model.write().overwrite().save(best_model_path)\n",
    "    print(f\"Logistic Regression model saved to {best_model_path}\")\n"
   ]
  }
 ],
 "metadata": {
  "application/vnd.databricks.v1+notebook": {
   "computePreferences": null,
   "dashboards": [],
   "environmentMetadata": {
    "base_environment": "",
    "environment_version": "2"
   },
   "inputWidgetPreferences": null,
   "language": "python",
   "notebookMetadata": {
    "pythonIndentUnit": 4
   },
   "notebookName": "machine_learning",
   "widgets": {}
  },
  "language_info": {
   "name": "python"
  }
 },
 "nbformat": 4,
 "nbformat_minor": 0
}