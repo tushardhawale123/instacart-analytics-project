{
 "cells": [
  {
   "cell_type": "code",
   "execution_count": 2,
   "id": "e6f27918",
   "metadata": {},
   "outputs": [],
   "source": [
    "from pyspark.sql import SparkSession\n",
    "from pyspark.sql.functions import col, count, sum, avg, desc, rank, dense_rank\n",
    "from pyspark.sql.window import Window\n",
    "import os"
   ]
  },
  {
   "cell_type": "code",
   "execution_count": 3,
   "id": "e79bc38a-94fb-4cb2-b6f9-a664e4f1aa48",
   "metadata": {},
   "outputs": [],
   "source": [
    "# Initialize Spark session\n",
    "spark = SparkSession.builder \\\n",
    "    .appName(\"Instacart Data Analysis\") \\\n",
    "    .config(\"spark.executor.memory\", \"2g\") \\\n",
    "    .getOrCreate()"
   ]
  },
  {
   "cell_type": "code",
   "execution_count": 4,
   "id": "34abb946-ce3c-4245-be4d-e882b5f130b0",
   "metadata": {},
   "outputs": [],
   "source": [
    "# Define paths\n",
    "DATA_PATH = '/home/jovyan/work/1_data/processed/'\n",
    "OUTPUT_PATH = '/home/jovyan/work/1_data/spark_output/'"
   ]
  },
  {
   "cell_type": "code",
   "execution_count": 5,
   "id": "842908b8-f3d6-47c8-a8e9-f23a0dcb03d8",
   "metadata": {},
   "outputs": [],
   "source": [
    "# Create output directory if it doesn't exist\n",
    "os.makedirs(OUTPUT_PATH, exist_ok=True)"
   ]
  },
  {
   "cell_type": "code",
   "execution_count": 6,
   "id": "58f9f5fb-e9d4-4191-a15a-52ee89e09025",
   "metadata": {},
   "outputs": [],
   "source": [
    "# Load datasets\n",
    "products = spark.read.csv(f\"{DATA_PATH}products_cleaned.csv\", header=True, inferSchema=True)\n",
    "orders = spark.read.csv(f\"{DATA_PATH}orders_cleaned.csv\", header=True, inferSchema=True)\n",
    "order_products_prior = spark.read.csv(f\"{DATA_PATH}order_products_prior_cleaned.csv\", header=True, inferSchema=True)\n",
    "order_products_train = spark.read.csv(f\"{DATA_PATH}order_products_train_cleaned.csv\", header=True, inferSchema=True)\n",
    "aisles = spark.read.csv(f\"{DATA_PATH}aisles_cleaned.csv\", header=True, inferSchema=True)\n",
    "departments = spark.read.csv(f\"{DATA_PATH}departments_cleaned.csv\", header=True, inferSchema=True)"
   ]
  },
  {
   "cell_type": "code",
   "execution_count": 7,
   "id": "39087622-fb0e-45a5-bfcc-961135ae508b",
   "metadata": {},
   "outputs": [],
   "source": [
    "# Register temporary views\n",
    "products.createOrReplaceTempView(\"products\")\n",
    "orders.createOrReplaceTempView(\"orders\")\n",
    "order_products_prior.createOrReplaceTempView(\"order_products_prior\")\n",
    "order_products_train.createOrReplaceTempView(\"order_products_train\")\n",
    "aisles.createOrReplaceTempView(\"aisles\")\n",
    "departments.createOrReplaceTempView(\"departments\")"
   ]
  },
  {
   "cell_type": "code",
   "execution_count": 8,
   "id": "d8e406b8-884c-4fdb-a995-d05f8edf750d",
   "metadata": {},
   "outputs": [],
   "source": [
    "# Combine order products data\n",
    "order_products = order_products_prior.withColumn(\"data_source\", col(\"reordered\").cast(\"string\")) \\\n",
    "    .union(order_products_train.withColumn(\"data_source\", col(\"reordered\").cast(\"string\")))"
   ]
  },
  {
   "cell_type": "code",
   "execution_count": 9,
   "id": "7ead0a64-a93e-4d9f-8c49-60562778f1a8",
   "metadata": {},
   "outputs": [
    {
     "name": "stdout",
     "output_type": "stream",
     "text": [
      "Calculating most popular products...\n"
     ]
    }
   ],
   "source": [
    "# Analysis 1: Most popular products\n",
    "print(\"Calculating most popular products...\")\n",
    "popular_products = order_products.groupBy(\"product_id\") \\\n",
    "    .agg(count(\"*\").alias(\"order_count\")) \\\n",
    "    .join(products, \"product_id\") \\\n",
    "    .join(aisles, \"aisle_id\") \\\n",
    "    .join(departments, \"department_id\") \\\n",
    "    .select(\"product_id\", \"product_name\", \"aisle\", \"department\", \"order_count\") \\\n",
    "    .orderBy(desc(\"order_count\"))\n",
    "\n",
    "popular_products.write.csv(f\"{OUTPUT_PATH}popular_products\", header=True, mode=\"overwrite\")"
   ]
  },
  {
   "cell_type": "code",
   "execution_count": 10,
   "id": "a52e3d30-6a09-4db4-9c99-440453d7473d",
   "metadata": {},
   "outputs": [
    {
     "name": "stdout",
     "output_type": "stream",
     "text": [
      "Calculating reorder rates by department...\n"
     ]
    }
   ],
   "source": [
    "# Analysis 2: Reorder rates by department\n",
    "print(\"Calculating reorder rates by department...\")\n",
    "reorder_rates = order_products.groupBy(\"product_id\") \\\n",
    "    .agg(\n",
    "        count(\"*\").alias(\"total_orders\"),\n",
    "        sum(col(\"reordered\").cast(\"int\")).alias(\"reorder_count\")\n",
    "    ) \\\n",
    "    .withColumn(\"reorder_rate\", col(\"reorder_count\") / col(\"total_orders\")) \\\n",
    "    .join(products, \"product_id\") \\\n",
    "    .join(departments, \"department_id\") \\\n",
    "    .groupBy(\"department_id\", \"department\") \\\n",
    "    .agg(avg(\"reorder_rate\").alias(\"avg_reorder_rate\")) \\\n",
    "    .orderBy(desc(\"avg_reorder_rate\"))\n",
    "\n",
    "reorder_rates.write.csv(f\"{OUTPUT_PATH}reorder_rates_by_department\", header=True, mode=\"overwrite\")"
   ]
  },
  {
   "cell_type": "code",
   "execution_count": 11,
   "id": "3f04ba5e-e19a-4b9b-8096-9adb03b47e46",
   "metadata": {},
   "outputs": [
    {
     "name": "stdout",
     "output_type": "stream",
     "text": [
      "Analyzing order patterns by hour of day...\n"
     ]
    }
   ],
   "source": [
    "# Analysis 3: Order patterns by hour of day\n",
    "print(\"Analyzing order patterns by hour of day...\")\n",
    "hour_patterns = orders.groupBy(\"order_hour_of_day\") \\\n",
    "    .agg(count(\"*\").alias(\"order_count\")) \\\n",
    "    .orderBy(\"order_hour_of_day\")\n",
    "\n",
    "hour_patterns.write.csv(f\"{OUTPUT_PATH}order_hour_patterns\", header=True, mode=\"overwrite\")"
   ]
  },
  {
   "cell_type": "code",
   "execution_count": 12,
   "id": "8d2e7643-8e4f-41ee-a36a-00444bc2c93d",
   "metadata": {},
   "outputs": [
    {
     "name": "stdout",
     "output_type": "stream",
     "text": [
      "Analyzing user purchase patterns...\n"
     ]
    }
   ],
   "source": [
    "# Analysis 4: User purchase frequency\n",
    "print(\"Analyzing user purchase patterns...\")\n",
    "user_frequency = orders.groupBy(\"user_id\") \\\n",
    "    .agg(count(\"*\").alias(\"order_count\")) \\\n",
    "    .orderBy(desc(\"order_count\"))\n",
    "\n",
    "user_frequency.write.csv(f\"{OUTPUT_PATH}user_frequency\", header=True, mode=\"overwrite\")"
   ]
  },
  {
   "cell_type": "code",
   "execution_count": 13,
   "id": "96aacbfe-cc3e-4d15-8f36-ba28327b5cf3",
   "metadata": {},
   "outputs": [
    {
     "name": "stdout",
     "output_type": "stream",
     "text": [
      "Finding top products by aisle...\n",
      "Spark processing complete. Results saved to /home/jovyan/work/1_data/spark_output/\n"
     ]
    }
   ],
   "source": [
    "# Analysis 5: Top products by aisle\n",
    "print(\"Finding top products by aisle...\")\n",
    "windowSpec = Window.partitionBy(\"aisle_id\").orderBy(desc(\"product_count\"))\n",
    "\n",
    "top_aisle_products = order_products.groupBy(\"product_id\") \\\n",
    "    .agg(count(\"*\").alias(\"product_count\")) \\\n",
    "    .join(products, \"product_id\") \\\n",
    "    .join(aisles, \"aisle_id\") \\\n",
    "    .select(\"aisle_id\", \"aisle\", \"product_id\", \"product_name\", \"product_count\") \\\n",
    "    .withColumn(\"rank\", dense_rank().over(windowSpec)) \\\n",
    "    .filter(col(\"rank\") <= 5) \\\n",
    "    .orderBy(\"aisle\", \"rank\")\n",
    "\n",
    "top_aisle_products.write.csv(f\"{OUTPUT_PATH}top_aisle_products\", header=True, mode=\"overwrite\")\n",
    "\n",
    "print(f\"Spark processing complete. Results saved to {OUTPUT_PATH}\")"
   ]
  },
  {
   "cell_type": "code",
   "execution_count": 14,
   "id": "e13eea32-7072-4fd1-ba3f-4b4ff99d2e88",
   "metadata": {},
   "outputs": [],
   "source": [
    "# Stop Spark session\n",
    "spark.stop()"
   ]
  }
 ],
 "metadata": {
  "kernelspec": {
   "display_name": "Python 3 (ipykernel)",
   "language": "python",
   "name": "python3"
  },
  "language_info": {
   "codemirror_mode": {
    "name": "ipython",
    "version": 3
   },
   "file_extension": ".py",
   "mimetype": "text/x-python",
   "name": "python",
   "nbconvert_exporter": "python",
   "pygments_lexer": "ipython3",
   "version": "3.11.6"
  }
 },
 "nbformat": 4,
 "nbformat_minor": 5
}
